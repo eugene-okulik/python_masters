{
 "cells": [
  {
   "cell_type": "markdown",
   "metadata": {},
   "source": [
    "# Python"
   ]
  },
  {
   "cell_type": "markdown",
   "metadata": {},
   "source": [
    "## Идентификаторы\n",
    "\n",
    "Идентификаторы в Python это имена используемые для обозначения переменной, функции, класса, модуля или другого объекта.\n",
    "\n",
    "Правила для написания идентификаторов:\n",
    "Идентификаторы могут быть комбинацией букв в нижнем регистре (a - z) или верхнего регистра (A - Z) или цифр (0 - 9) или подчеркивание _. Например: myClass, var_1 и print_this_to_screen.\n",
    "Идентификатор не может начинаться с цифры. 1variable неправильно, но variable1 правильно.\n",
    "Ключевые слова не могут использоваться как идентификаторы.\n",
    "Нельзя использовать специальные символы !, @, #, $, %. Идентификаторы могут быть любой длины.\n",
    "![](2022-11-16_19-17.png)"
   ]
  },
  {
   "cell_type": "markdown",
   "metadata": {},
   "source": [
    "Зарезервированные слова\n",
    "\n",
    "Мы не можем использовать ключевые слова как имена переменных, имена функций или какой-нибудь любой другой идентификатор.\n",
    "\n",
    "Они используются, для определения синтаксиса и структуры в языке Python. Ключевые слова регистрозависимые.\n",
    "\n",
    "Все слова за исключением True, False и None в маленьком регистре.\n",
    "![](2022-11-16_19-20.png)"
   ]
  },
  {
   "cell_type": "markdown",
   "metadata": {},
   "source": [
    "Python – регистрозависимый язык. Это означает, что `Variable` и `variable` не одно и тоже.  \n",
    "Называйте идентификаторы осмысленно.  \n",
    "Несколько слов могут быть разделены подчеркиванием this_is_a_long_variable.  \n",
    "`snake_case` (undercore notation) - стандарт для именования всего кроме классов"
   ]
  },
  {
   "cell_type": "markdown",
   "metadata": {},
   "source": [
    "## Основные типы данных"
   ]
  },
  {
   "cell_type": "markdown",
   "metadata": {},
   "source": [
    "1. int - integer - целые числа (4)\n",
    "2. float - числа с плавающей точкой (4.2)\n",
    "3. str - string - строки ('My cool text')\n",
    "4. bool - boolean - логические значения: True или False \n",
    "\n",
    "Это не все типы данных, а только основные."
   ]
  },
  {
   "cell_type": "code",
   "execution_count": 13,
   "metadata": {},
   "outputs": [
    {
     "name": "stdout",
     "output_type": "stream",
     "text": [
      "42\n",
      "2.5\n",
      "He'd said: \"My name is John\"\n",
      "False\n",
      "True\n"
     ]
    }
   ],
   "source": [
    "print(42)\n",
    "print(2.5)\n",
    "print('He\\'d said: \"My name is John\"')\n",
    "print(False)\n",
    "print(True)"
   ]
  },
  {
   "cell_type": "markdown",
   "metadata": {},
   "source": [
    "## Переменная"
   ]
  },
  {
   "cell_type": "markdown",
   "metadata": {},
   "source": [
    "Именованный участок памяти, обладающий некоторым типом.  \n",
    "\n",
    "Таким образом, в Python у переменной всегда есть:  \n",
    "Имя (название)  \n",
    "Значение  \n",
    "![](img/2022-11-16_19-39.png)"
   ]
  },
  {
   "cell_type": "markdown",
   "metadata": {},
   "source": [
    "Переменная - это элемент, который хранит в себе какие либо данные.  \n",
    "Если мы создали переменную, то она никогда не бывает абсолютно пустой. В ней может храниться, например, пустая строка. Тогда переменная хранит строку, которая пустая. И хранит ее до тех пор, пока программа не завершит работу."
   ]
  },
  {
   "cell_type": "code",
   "execution_count": 17,
   "metadata": {},
   "outputs": [
    {
     "name": "stdout",
     "output_type": "stream",
     "text": [
      "43\n",
      "43\n",
      "43\n",
      "43\n",
      "43\n",
      "43\n"
     ]
    }
   ],
   "source": [
    "my_secret_number = 43\n",
    "\n",
    "print(my_secret_number)\n",
    "print(my_secret_number)\n",
    "print(my_secret_number)\n",
    "print(my_secret_number)\n",
    "print(my_secret_number)\n",
    "print(my_secret_number)"
   ]
  },
  {
   "cell_type": "markdown",
   "metadata": {},
   "source": [
    "DRY - don't repeat yourself - не повторяйся"
   ]
  },
  {
   "cell_type": "markdown",
   "metadata": {},
   "source": [
    "### Объявление переменной"
   ]
  },
  {
   "cell_type": "markdown",
   "metadata": {},
   "source": [
    "Переменные в Python не типизированные. Это значит, что при создании переменной не нужно указывать какой тип данных в ней будет храниться. Более того, переменную не нужно объявлять заранее, до того как присвоить ей какие-либо данные. Объявление переменной происходит простым присвоением ей значения:"
   ]
  },
  {
   "cell_type": "code",
   "execution_count": 22,
   "metadata": {},
   "outputs": [
    {
     "name": "stdout",
     "output_type": "stream",
     "text": [
      "5\n",
      "text\n",
      "text\n",
      "text\n",
      "text\n"
     ]
    }
   ],
   "source": [
    "my_number = 5\n",
    "print(my_number)\n",
    "my_number = 'text'\n",
    "print(my_number)\n",
    "print(my_number)\n",
    "print(my_number)\n",
    "print(my_number)"
   ]
  },
  {
   "cell_type": "code",
   "execution_count": 27,
   "metadata": {},
   "outputs": [
    {
     "ename": "TypeError",
     "evalue": "can only concatenate str (not \"int\") to str",
     "output_type": "error",
     "traceback": [
      "\u001b[0;31m---------------------------------------------------------------------------\u001b[0m",
      "\u001b[0;31mTypeError\u001b[0m                                 Traceback (most recent call last)",
      "\u001b[0;32m/tmp/ipykernel_827417/931243530.py\u001b[0m in \u001b[0;36m<module>\u001b[0;34m\u001b[0m\n\u001b[1;32m      2\u001b[0m \u001b[0ma\u001b[0m \u001b[0;34m=\u001b[0m \u001b[0;34m'iweuyiwueyr'\u001b[0m\u001b[0;34m\u001b[0m\u001b[0;34m\u001b[0m\u001b[0m\n\u001b[1;32m      3\u001b[0m \u001b[0ma\u001b[0m \u001b[0;34m=\u001b[0m \u001b[0;34m'5'\u001b[0m\u001b[0;34m\u001b[0m\u001b[0;34m\u001b[0m\u001b[0m\n\u001b[0;32m----> 4\u001b[0;31m \u001b[0mprint\u001b[0m\u001b[0;34m(\u001b[0m\u001b[0ma\u001b[0m \u001b[0;34m+\u001b[0m \u001b[0;36m2\u001b[0m\u001b[0;34m)\u001b[0m\u001b[0;34m\u001b[0m\u001b[0;34m\u001b[0m\u001b[0m\n\u001b[0m",
      "\u001b[0;31mTypeError\u001b[0m: can only concatenate str (not \"int\") to str"
     ]
    }
   ],
   "source": [
    "a = 5\n",
    "a = 'iweuyiwueyr'\n",
    "a = '5'\n",
    "print(a + 2)"
   ]
  },
  {
   "cell_type": "markdown",
   "metadata": {},
   "source": [
    "После присвоения, переменная сама знает какой тип данных в ней хранится. У переменной всегда есть тип (конечно, если значение не None). Но этот тип НЕ неизменнен. Вы всегда можете переназначить содержимое переменной значением любого типа"
   ]
  },
  {
   "cell_type": "markdown",
   "metadata": {},
   "source": [
    "## Input"
   ]
  },
  {
   "cell_type": "code",
   "execution_count": 28,
   "metadata": {},
   "outputs": [
    {
     "name": "stdout",
     "output_type": "stream",
     "text": [
      "Eugeny\n"
     ]
    }
   ],
   "source": [
    "name = input('What is your name?')\n",
    "\n",
    "print(name)\n"
   ]
  },
  {
   "cell_type": "code",
   "execution_count": 29,
   "metadata": {},
   "outputs": [
    {
     "name": "stdout",
     "output_type": "stream",
     "text": [
      "None\n",
      "male\n",
      "3\n"
     ]
    }
   ],
   "source": [
    "gender = input('Gender?')\n",
    "name = input('Name?')\n",
    "weight = input('Weight')\n",
    "\n",
    "if not gender:\n",
    "    gender = None\n",
    "if not name:\n",
    "    name = None\n",
    "if not weight:\n",
    "    weight = None\n",
    "\n",
    "print(name, gender, weight, sep='\\n')\n",
    "   \n"
   ]
  },
  {
   "cell_type": "markdown",
   "metadata": {},
   "source": [
    "## Операторы"
   ]
  },
  {
   "cell_type": "markdown",
   "metadata": {},
   "source": [
    "![](img/2022-11-16_19-45.png)"
   ]
  },
  {
   "cell_type": "markdown",
   "metadata": {},
   "source": [
    "### Арифметические операторы"
   ]
  },
  {
   "cell_type": "markdown",
   "metadata": {},
   "source": [
    "| Операция                 | Описание                                                      | Пример                  |\n",
    "|--------------------------|---------------------------------------------------------------|-------------------------|\n",
    "| сложение +               | Складывает значение операндов слева и справа от оператора     | 10 + 20 = 30            |\n",
    "| вычитание -              | Вычитает из левого операнда правый                            | 20 - 10 = 10            |\n",
    "| умножение *              | Перемножает левый и правый операнды                           | 10 * 20 = 200           |\n",
    "| деление /                | Делит левый операнд на правый                                 | 20 / 10 = 2             |\n",
    "| остаток от деления %     | Делит левый операнд на правый и возвращает остаток от деления | 20 % 10 = 0 42 % 10 = 2 |\n",
    "| возведение в степень **  | Возводит левый операнд в степень равную правому               | 5 ** 2 = 25             |\n",
    "| целочисленное деление // | Делит левый операнд на правый и оставляет только целую часть  | 9 // 2 = 4              |"
   ]
  },
  {
   "cell_type": "code",
   "execution_count": 38,
   "metadata": {},
   "outputs": [
    {
     "name": "stdout",
     "output_type": "stream",
     "text": [
      "1.05\n",
      "1\n",
      "3\n",
      "6.0\n"
     ]
    }
   ],
   "source": [
    "print(21 / 20)\n",
    "print(21 // 20)\n",
    "print(23 % 20)\n",
    "print(2 ** 2 + 4 ** 0.5)"
   ]
  },
  {
   "cell_type": "markdown",
   "metadata": {},
   "source": [
    "### Порядок операций"
   ]
  },
  {
   "cell_type": "markdown",
   "metadata": {},
   "source": [
    "Если в выражении встречается больше, чем один оператор, то порядок вычислений зависит от правил старшинства (rules of precedence). Для математических операций, Python следует математическим соглашениям. Аббревиатура PEMDAS является простым способом для запоминания правил:  \n",
    "\n",
    "1. Parentheses - Скобки\n",
    "2. Exponentiation - Возведение в степень\n",
    "3. Multiplication - Умножение\n",
    "4. Division - Деление  \n",
    "5. Addition - Сложение \n",
    "6. Subtraction - Вычитания"
   ]
  },
  {
   "cell_type": "markdown",
   "metadata": {},
   "source": [
    "### Операторы сравнения\n",
    "![](2022-11-16_19-57.png)  \n",
    "Один оператор замазан, там \"<>\" - он умер вместе с Python 2.7\n",
    "Все эти операторы используются для того чтобы сравнивать какие-либо значения. Результатом такого сравнения будет True или False"
   ]
  },
  {
   "cell_type": "code",
   "execution_count": 45,
   "metadata": {},
   "outputs": [
    {
     "name": "stdout",
     "output_type": "stream",
     "text": [
      "False\n",
      "True\n",
      "False\n",
      "True\n",
      "False\n",
      "True\n",
      "False\n"
     ]
    }
   ],
   "source": [
    "print(1 > 2)\n",
    "print(1 <= 2)\n",
    "print(1 >= 2)\n",
    "print(1 != 2)\n",
    "print(1 != 1)\n",
    "print(1 == 1)\n",
    "print(1 == 2)"
   ]
  },
  {
   "cell_type": "markdown",
   "metadata": {},
   "source": [
    "### Операторы присваивания\n",
    "![](img/2022-11-16_20-00.png)  \n",
    "Используются для того, чтобы присвоить какое либо значение переменной."
   ]
  },
  {
   "cell_type": "code",
   "execution_count": 47,
   "metadata": {},
   "outputs": [
    {
     "name": "stdout",
     "output_type": "stream",
     "text": [
      "7\n"
     ]
    }
   ],
   "source": [
    "a = 5\n",
    "a = a + 1\n",
    "a += 1\n",
    "print(a)"
   ]
  },
  {
   "cell_type": "code",
   "execution_count": 48,
   "metadata": {},
   "outputs": [
    {
     "name": "stdout",
     "output_type": "stream",
     "text": [
      "4\n"
     ]
    }
   ],
   "source": [
    "a = 5\n",
    "a -= 1\n",
    "print(a)"
   ]
  },
  {
   "cell_type": "code",
   "execution_count": 49,
   "metadata": {},
   "outputs": [
    {
     "name": "stdout",
     "output_type": "stream",
     "text": [
      "Helloworld\n"
     ]
    }
   ],
   "source": [
    "print('Hello' + 'world')"
   ]
  },
  {
   "cell_type": "code",
   "execution_count": 52,
   "metadata": {},
   "outputs": [
    {
     "name": "stdout",
     "output_type": "stream",
     "text": [
      "Name: Bob\n",
      "Gender: male\n",
      "Weight: 3\n"
     ]
    }
   ],
   "source": [
    "gender = input('Gender?')\n",
    "name = input('Name?')\n",
    "weight = input('Weight')\n",
    "\n",
    "if not gender:\n",
    "    gender = None\n",
    "if not name:\n",
    "    name = None\n",
    "if not weight:\n",
    "    weight = None\n",
    "\n",
    "print('Name: ' + name)\n",
    "print('Gender: ' + gender)\n",
    "print('Weight: ' + weight)"
   ]
  },
  {
   "cell_type": "code",
   "execution_count": 55,
   "metadata": {},
   "outputs": [
    {
     "name": "stdout",
     "output_type": "stream",
     "text": [
      "Helloworld\n"
     ]
    }
   ],
   "source": [
    "text = 'Hello'\n",
    "long_text = '''\n",
    "sldkfjlskdjflsf sdfkjskdjfhsdf skdjfhskjfdhsdf ksdfhksjdfh\n",
    "skdfjhsldkf\"\"jsld'fjk s'dkfjh'sldkfjsldfjk\n",
    "sldjflskdjf sdfkjsldfkjsf sdlk\"fjsldf\"jksfd lsdkfjlsdfj slkdjflsdjkf\n",
    "sdfkjsldfkjsldfkj sddlfkjslfjsl sldkfjsldk\n",
    "'''\n",
    "long_text2 = 'sldkfjlskdjflsf sdfkjskdjfhsdf skdjfhskjfdhsdf \\nksdfhksjdfh skdfjhsldkfjsldfjk sdkfjhsldkfjsldfjk \\nsldjflskdjf sdfkjsldfkjsf sdlkfjsldfjksfd \\nlsdkfjlsdfj slkdjflsdjkf sdfkjsldfkjsldfkj sddlfkjslfjsl sldkfjsldk'\n",
    "# text = text + 'world'\n",
    "# Здесь я использую составное присвоение\n",
    "text += 'world'\n",
    "print(text)"
   ]
  },
  {
   "cell_type": "code",
   "execution_count": 60,
   "metadata": {},
   "outputs": [],
   "source": [
    "# 12\n",
    "# 2323.5\n",
    "# 'skdfhskdfjsldf'\n",
    "# True"
   ]
  }
 ],
 "metadata": {
  "kernelspec": {
   "display_name": "Python 3",
   "language": "python",
   "name": "python3"
  },
  "language_info": {
   "codemirror_mode": {
    "name": "ipython",
    "version": 3
   },
   "file_extension": ".py",
   "mimetype": "text/x-python",
   "name": "python",
   "nbconvert_exporter": "python",
   "pygments_lexer": "ipython3",
   "version": "3.10.12"
  }
 },
 "nbformat": 4,
 "nbformat_minor": 2
}
