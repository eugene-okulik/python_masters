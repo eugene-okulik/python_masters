{
 "cells": [
  {
   "cell_type": "markdown",
   "metadata": {},
   "source": [
    "# Classes"
   ]
  },
  {
   "cell_type": "code",
   "execution_count": 1,
   "metadata": {},
   "outputs": [],
   "source": [
    "class Group:\n",
    "    pupils = True\n",
    "    school_name = 42\n",
    "    director = 'Marivanna'\n",
    "\n",
    "    def __init__(self, title):\n",
    "        self.title = title\n",
    "        self.data = {title: '19283729384'}\n",
    "\n",
    "    def study(self):\n",
    "        print('Sit down and read')\n",
    "\n",
    "    def move(self):\n",
    "        pass\n",
    "\n",
    "\n",
    "class PrimaryGroup(Group):\n",
    "    max_age = 11\n",
    "    min_age = 6\n",
    "    building_section = 'left'\n",
    "\n",
    "    def __init__(self, title, room):\n",
    "        super().__init__(title)\n",
    "        self.class_room = room\n",
    "\n",
    "    def move(self):\n",
    "        print('Run')\n",
    "\n",
    "\n",
    "class HighGroup(Group):\n",
    "    max_age = 18\n",
    "    min_age = 14\n",
    "\n",
    "    def move(self):\n",
    "        print('Walk')\n"
   ]
  },
  {
   "cell_type": "code",
   "execution_count": 2,
   "metadata": {},
   "outputs": [
    {
     "name": "stdout",
     "output_type": "stream",
     "text": [
      "42\n",
      "Marivanna\n",
      "left\n",
      "1A\n",
      "123\n",
      "\n",
      "42\n",
      "Marivanna\n",
      "18\n",
      "11B\n",
      "12B\n",
      "False\n",
      "Sit down and read\n",
      "Sit down and read\n",
      "Run\n",
      "Walk\n"
     ]
    }
   ],
   "source": [
    "first_a = PrimaryGroup('1A', 123) # first_a.__init__()\n",
    "\n",
    "print(first_a.school_name)\n",
    "print(first_a.director)\n",
    "print(first_a.building_section)\n",
    "print(first_a.title)\n",
    "print(first_a.class_room)\n",
    "\n",
    "print()\n",
    "eleven_b = HighGroup('11B')\n",
    "print(eleven_b.school_name)\n",
    "print(eleven_b.director)\n",
    "print(eleven_b.max_age)\n",
    "print(eleven_b.title)\n",
    "eleven_b.title = '12B'\n",
    "print(eleven_b.title)\n",
    "# print(eleven_b.building_section)\n",
    "eleven_b.pupils = False\n",
    "print(eleven_b.pupils)\n",
    "\n",
    "first_a.study()\n",
    "eleven_b.study()\n",
    "\n",
    "first_a.move()\n",
    "eleven_b.move()\n",
    "\n"
   ]
  }
 ],
 "metadata": {
  "kernelspec": {
   "display_name": "Python 3",
   "language": "python",
   "name": "python3"
  },
  "language_info": {
   "codemirror_mode": {
    "name": "ipython",
    "version": 3
   },
   "file_extension": ".py",
   "mimetype": "text/x-python",
   "name": "python",
   "nbconvert_exporter": "python",
   "pygments_lexer": "ipython3",
   "version": "3.10.12"
  }
 },
 "nbformat": 4,
 "nbformat_minor": 2
}
