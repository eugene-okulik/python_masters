{
 "cells": [
  {
   "cell_type": "markdown",
   "metadata": {},
   "source": [
    "# Datetime"
   ]
  },
  {
   "cell_type": "code",
   "execution_count": 10,
   "metadata": {},
   "outputs": [
    {
     "name": "stdout",
     "output_type": "stream",
     "text": [
      "2023-12-16 11:40:46.879337\n",
      "1702716046.879337\n",
      "16\n",
      "5\n",
      "6\n",
      "11\n"
     ]
    }
   ],
   "source": [
    "import datetime\n",
    "\n",
    "time_now = datetime.datetime.now()\n",
    "print(time_now)\n",
    "print(time_now.timestamp())  # linux epoch time\n",
    "print(time_now.day)\n",
    "print(time_now.weekday())\n",
    "print(time_now.isoweekday())\n",
    "print(time_now.hour)\n",
    "print(time_now.weekday())"
   ]
  },
  {
   "cell_type": "code",
   "execution_count": 15,
   "metadata": {},
   "outputs": [
    {
     "name": "stdout",
     "output_type": "stream",
     "text": [
      "1970-01-02 12:35:55.432343\n",
      "120955.432343\n"
     ]
    }
   ],
   "source": [
    "# easy_date = datetime.datetime(1969, 12, 30)\n",
    "easy_date = datetime.datetime(1970, 1, 2, 12, 35, 55, 432343)\n",
    "print(easy_date)\n",
    "print(easy_date.timestamp())"
   ]
  },
  {
   "cell_type": "markdown",
   "metadata": {},
   "source": [
    "https://docs.python.org/3/library/datetime.html#strftime-and-strptime-format-codes"
   ]
  },
  {
   "cell_type": "code",
   "execution_count": 17,
   "metadata": {},
   "outputs": [
    {
     "name": "stdout",
     "output_type": "stream",
     "text": [
      "2023-06-05 12:30:10\n",
      "6\n"
     ]
    }
   ],
   "source": [
    "my_time = '2023/06/05 12 hours, 30 mins, 10 secs'\n",
    "\n",
    "python_date = datetime.datetime.strptime(my_time, '%Y/%m/%d %H hours, %M mins, %S secs')\n",
    "\n",
    "print(python_date)\n",
    "print(python_date.month)"
   ]
  },
  {
   "cell_type": "code",
   "execution_count": 18,
   "metadata": {},
   "outputs": [
    {
     "name": "stdout",
     "output_type": "stream",
     "text": [
      "1\n"
     ]
    }
   ],
   "source": [
    "iso_date = '1970-01-02 12:35:55.432343'\n",
    "\n",
    "python_date2 = datetime.datetime.fromisoformat(iso_date)\n",
    "\n",
    "print(python_date2.month)"
   ]
  },
  {
   "cell_type": "code",
   "execution_count": 19,
   "metadata": {},
   "outputs": [
    {
     "name": "stdout",
     "output_type": "stream",
     "text": [
      "the 02 of January, 1970\n"
     ]
    }
   ],
   "source": [
    "# the 02 of January, 1970\n",
    "\n",
    "human_date = python_date2.strftime('the %d of %B, %Y')\n",
    "\n",
    "print(human_date)"
   ]
  },
  {
   "cell_type": "markdown",
   "metadata": {},
   "source": [
    "# List comprehension"
   ]
  },
  {
   "cell_type": "code",
   "execution_count": 24,
   "metadata": {},
   "outputs": [
    {
     "name": "stdout",
     "output_type": "stream",
     "text": [
      "[2, 4, 6, 8, 10, 12, 14, 16, 20]\n"
     ]
    }
   ],
   "source": [
    "my_list = [1, 2, 3, 4, 5, 6, 7, 8, 10]\n",
    "\n",
    "# new_list = []\n",
    "# for x in my_list:\n",
    "#     new_list.append(x * 2)\n",
    "\n",
    "# new_list = list(map(lambda x: x * 2, my_list))\n",
    "\n",
    "lll = [1]\n",
    "# new_list = [x for x in my_list]\n",
    "new_list = [x * 2 for x in my_list]\n",
    "\n",
    "print(new_list)"
   ]
  },
  {
   "cell_type": "code",
   "execution_count": 29,
   "metadata": {},
   "outputs": [
    {
     "name": "stdout",
     "output_type": "stream",
     "text": [
      "[2, 4, 6, 8, 10]\n"
     ]
    }
   ],
   "source": [
    "my_list = [1, 2, 3, 4, 5, 6, 7, 8, 10]\n",
    "\n",
    "# new_list = []\n",
    "# for x in my_list:\n",
    "#     if x % 2 == 0:\n",
    "#         new_list.append(x)\n",
    "\n",
    "# new_list = list(filter(lambda x: x % 2 == 0, my_list))\n",
    "\n",
    "new_list = [x for x in my_list if x % 2 == 0]\n",
    "\n",
    "print(new_list)"
   ]
  },
  {
   "cell_type": "code",
   "execution_count": 30,
   "metadata": {},
   "outputs": [
    {
     "name": "stdout",
     "output_type": "stream",
     "text": [
      "<class 'list'>\n",
      "<class 'generator'>\n"
     ]
    }
   ],
   "source": [
    "new_tuple = (x * 2 for x in my_list)\n",
    "print(type(new_list))\n",
    "print(type(new_tuple))\n"
   ]
  },
  {
   "cell_type": "code",
   "execution_count": 31,
   "metadata": {},
   "outputs": [
    {
     "name": "stdout",
     "output_type": "stream",
     "text": [
      "{1: 3, 2: 6, 3: 9, 4: 12, 5: 15, 6: 18, 7: 21, 8: 24, 10: 30}\n"
     ]
    }
   ],
   "source": [
    "my_list = [1, 2, 3, 4, 5, 6, 7, 8, 10]\n",
    "\n",
    "{1: 1*3, 2: 2*3, 3: 3*3}\n",
    "\n",
    "new_dict = {x: x * 3 for x in my_list}\n",
    "\n",
    "print(new_dict)"
   ]
  },
  {
   "cell_type": "code",
   "execution_count": 42,
   "metadata": {},
   "outputs": [
    {
     "name": "stdout",
     "output_type": "stream",
     "text": [
      "[['ivan', 'song1'], ['metallica', 'unforgiven'], ['beatles', 'yesterday']]\n",
      "ivan song1\n",
      "metallica unforgiven\n",
      "beatles yesterday\n",
      "{'song1': 'ivan', 'unforgiven': 'metallica', 'yesterday': 'beatles'}\n",
      "{'ivan': 'song1', 'metallica': 'unforgiven', 'beatles': 'yesterday'}\n"
     ]
    }
   ],
   "source": [
    "data = '''ivan:song1\n",
    "metallica:unforgiven\n",
    "beatles:yesterday\n",
    "'''\n",
    "lines = list(map(lambda x: x.split(':'), data.splitlines()))\n",
    "\n",
    "print(lines)\n",
    "\n",
    "for artist, song in lines:\n",
    "    # artist, song = line\n",
    "    print(artist, song)\n",
    "\n",
    "top3 = {artist: song for artist, song in lines}\n",
    "top3 = {val: key for key, val in lines}\n",
    "easy_top3 = dict(lines)\n",
    "\n",
    "print(top3)\n",
    "print(easy_top3)"
   ]
  },
  {
   "cell_type": "code",
   "execution_count": 44,
   "metadata": {},
   "outputs": [
    {
     "name": "stdout",
     "output_type": "stream",
     "text": [
      "{'arist': 'beatles', 'track': 'yesterday', 'data': 'mydata', 'date': '2024'}\n",
      "{'beatles': 'yesterday'}\n"
     ]
    }
   ],
   "source": [
    "songs = {1: {'arist': 'beatles', 'track': 'yesterday', 'data': 'mydata', 'date': '2024'}}\n",
    "\n",
    "artists = [song['arist'] for song in songs.values()]\n",
    "tracks = [song['track'] for song in songs.values()]\n",
    "songs_dict = {song['arist']: song['track'] for song in songs.values()}\n",
    "for song in songs.values():\n",
    "    artists.append(song['arist'])\n",
    "    tracks.append(song['track'])\n",
    "    print(song)\n",
    "\n",
    "print(songs_dict)"
   ]
  },
  {
   "cell_type": "code",
   "execution_count": 50,
   "metadata": {},
   "outputs": [
    {
     "data": {
      "text/plain": [
       "{'USA': 23, 'Hawaii': 33, 'Cuba': 35}"
      ]
     },
     "execution_count": 50,
     "metadata": {},
     "output_type": "execute_result"
    }
   ],
   "source": [
    "countries = ['USA', 'Hawaii', 'Cuba']\n",
    "temps = [23, 33, 35]\n",
    "# dates = [1, 2, 3]\n",
    "\n",
    "country_temps = list(zip(countries, temps))\n",
    "\n",
    "country_temps_dict = dict(country_temps)\n",
    "\n",
    "country_temps_dict\n"
   ]
  }
 ],
 "metadata": {
  "kernelspec": {
   "display_name": "Python 3",
   "language": "python",
   "name": "python3"
  },
  "language_info": {
   "codemirror_mode": {
    "name": "ipython",
    "version": 3
   },
   "file_extension": ".py",
   "mimetype": "text/x-python",
   "name": "python",
   "nbconvert_exporter": "python",
   "pygments_lexer": "ipython3",
   "version": "3.10.12"
  }
 },
 "nbformat": 4,
 "nbformat_minor": 2
}
