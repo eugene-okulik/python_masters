{
 "cells": [
  {
   "cell_type": "markdown",
   "metadata": {},
   "source": [
    "# Decorators"
   ]
  },
  {
   "cell_type": "code",
   "execution_count": 8,
   "metadata": {},
   "outputs": [
    {
     "name": "stdout",
     "output_type": "stream",
     "text": [
      "2\n",
      "<function calc at 0x7ff99ace8940>\n",
      "<function calc at 0x7ff99ace8940>\n",
      "2\n"
     ]
    }
   ],
   "source": [
    "def calc():\n",
    "    print(1 + 1)\n",
    "\n",
    "calc()\n",
    "print(calc)\n",
    "new_calc = calc\n",
    "print(new_calc)\n",
    "new_calc()\n"
   ]
  },
  {
   "cell_type": "code",
   "execution_count": 9,
   "metadata": {},
   "outputs": [
    {
     "name": "stdout",
     "output_type": "stream",
     "text": [
      "3\n",
      "<function calc at 0x7ff99ace9000>\n",
      "<function calc at 0x7ff99ace9000>\n",
      "3\n"
     ]
    }
   ],
   "source": [
    "def calc(x):\n",
    "    print(x + 1)\n",
    "\n",
    "calc(2)\n",
    "print(calc)\n",
    "new_calc = calc\n",
    "print(new_calc)\n",
    "new_calc(2)"
   ]
  },
  {
   "cell_type": "code",
   "execution_count": 15,
   "metadata": {},
   "outputs": [
    {
     "name": "stdout",
     "output_type": "stream",
     "text": [
      "Hello\n"
     ]
    }
   ],
   "source": [
    "def greet():\n",
    "\n",
    "    def hello():\n",
    "        return 'Hello'\n",
    "    \n",
    "    return hello()\n",
    "    \n",
    "print(greet())\n"
   ]
  },
  {
   "cell_type": "code",
   "execution_count": 23,
   "metadata": {},
   "outputs": [
    {
     "name": "stdout",
     "output_type": "stream",
     "text": [
      "<function outer.<locals>.inner at 0x7ff99ace92d0>\n",
      "7\n",
      "<function outer.<locals>.inner at 0x7ff99ace92d0>\n",
      "7\n"
     ]
    }
   ],
   "source": [
    "def outer():\n",
    "\n",
    "    def inner():\n",
    "        result = 2 + 5\n",
    "        return result\n",
    "    \n",
    "    return inner\n",
    "    \n",
    "print(outer())\n",
    "print(outer()())\n",
    "inner_func = outer()\n",
    "print(inner_func)\n",
    "print(inner_func())"
   ]
  },
  {
   "cell_type": "code",
   "execution_count": 20,
   "metadata": {},
   "outputs": [
    {
     "name": "stdout",
     "output_type": "stream",
     "text": [
      "7\n"
     ]
    }
   ],
   "source": [
    "def outer():\n",
    "    def inner():\n",
    "\n",
    "        def inner2():\n",
    "            result = 2 + 5\n",
    "            return result\n",
    "        \n",
    "        return inner2\n",
    "    \n",
    "    return inner\n",
    "    \n",
    "print(outer()()())"
   ]
  },
  {
   "cell_type": "code",
   "execution_count": null,
   "metadata": {},
   "outputs": [],
   "source": [
    "def process_data(*args):\n",
    "\n",
    "    def convert_str(text):\n",
    "        text = text.strip()\n",
    "        if 'o' in text:\n",
    "            text = text.replace('o', 'a')\n",
    "        return text\n",
    "\n",
    "    new_list = []\n",
    "    for arg in args:\n",
    "        if isinstance(arg, str):\n",
    "            convert_str(arg)\n",
    "        else:\n",
    "            new_list.append(arg)"
   ]
  },
  {
   "cell_type": "code",
   "execution_count": 28,
   "metadata": {},
   "outputs": [
    {
     "name": "stdout",
     "output_type": "stream",
     "text": [
      "simple1\n",
      "simple2\n",
      "before\n",
      "simple1\n",
      "after\n",
      "before\n",
      "simple2\n",
      "after\n"
     ]
    }
   ],
   "source": [
    "def func1(give_me_a_func):\n",
    "    print('before')\n",
    "    give_me_a_func()\n",
    "    print('after')\n",
    "\n",
    "\n",
    "def simple1():\n",
    "    print('simple1')\n",
    "\n",
    "def simple2():\n",
    "    print('simple2')\n",
    "\n",
    "simple1()\n",
    "simple2()\n",
    "\n",
    "func1(simple1)\n",
    "func1(simple2)\n"
   ]
  },
  {
   "cell_type": "code",
   "execution_count": 37,
   "metadata": {},
   "outputs": [
    {
     "name": "stdout",
     "output_type": "stream",
     "text": [
      "simple1\n",
      "\n",
      "before\n",
      "simple1\n",
      "after\n",
      "<function add_text.<locals>.wrapper at 0x7ff988d7c4c0>\n",
      "\n",
      "before\n",
      "simple1\n",
      "after\n",
      "before\n",
      "simple2\n",
      "after\n"
     ]
    }
   ],
   "source": [
    "def add_text(func):\n",
    "\n",
    "    def wrapper():\n",
    "        print('before')\n",
    "        func()\n",
    "        print('after')\n",
    "\n",
    "    return wrapper\n",
    "\n",
    "\n",
    "def simple1():\n",
    "    print('simple1')\n",
    "\n",
    "def simple2():\n",
    "    print('simple2')\n",
    "\n",
    "simple1()\n",
    "print()\n",
    "add_text(simple1)()\n",
    "simple1 = add_text(simple1)\n",
    "print(simple1)\n",
    "print()\n",
    "simple1()\n",
    "simple2 = add_text(simple2)\n",
    "simple2()"
   ]
  },
  {
   "cell_type": "code",
   "execution_count": 39,
   "metadata": {},
   "outputs": [
    {
     "name": "stdout",
     "output_type": "stream",
     "text": [
      "before\n",
      "simple1\n",
      "after\n",
      "before\n",
      "simple2\n",
      "after\n"
     ]
    },
    {
     "ename": "TypeError",
     "evalue": "add_text.<locals>.wrapper() takes 0 positional arguments but 1 was given",
     "output_type": "error",
     "traceback": [
      "\u001b[0;31m---------------------------------------------------------------------------\u001b[0m",
      "\u001b[0;31mTypeError\u001b[0m                                 Traceback (most recent call last)",
      "\u001b[0;32m/tmp/ipykernel_3597527/1074679220.py\u001b[0m in \u001b[0;36m<module>\u001b[0;34m\u001b[0m\n\u001b[1;32m     22\u001b[0m \u001b[0msimple1\u001b[0m\u001b[0;34m(\u001b[0m\u001b[0;34m)\u001b[0m\u001b[0;34m\u001b[0m\u001b[0;34m\u001b[0m\u001b[0m\n\u001b[1;32m     23\u001b[0m \u001b[0msimple2\u001b[0m\u001b[0;34m(\u001b[0m\u001b[0;34m)\u001b[0m\u001b[0;34m\u001b[0m\u001b[0;34m\u001b[0m\u001b[0m\n\u001b[0;32m---> 24\u001b[0;31m \u001b[0mcalc\u001b[0m\u001b[0;34m(\u001b[0m\u001b[0;36m3\u001b[0m\u001b[0;34m)\u001b[0m\u001b[0;34m\u001b[0m\u001b[0;34m\u001b[0m\u001b[0m\n\u001b[0m",
      "\u001b[0;31mTypeError\u001b[0m: add_text.<locals>.wrapper() takes 0 positional arguments but 1 was given"
     ]
    }
   ],
   "source": [
    "def add_text(func):\n",
    "\n",
    "    def wrapper():\n",
    "        print('before')\n",
    "        func()\n",
    "        print('after')\n",
    "\n",
    "    return wrapper\n",
    "\n",
    "@add_text  # simple1 = add_text(simple1)\n",
    "def simple1():\n",
    "    print('simple1')\n",
    "\n",
    "@add_text\n",
    "def simple2():\n",
    "    print('simple2')\n",
    "\n",
    "@add_text  # calc = add_text(calc(x))\n",
    "def calc(x):\n",
    "    print(x + 2)\n",
    "\n",
    "simple1()\n",
    "simple2()\n",
    "calc(3)"
   ]
  },
  {
   "cell_type": "code",
   "execution_count": 49,
   "metadata": {},
   "outputs": [
    {
     "name": "stdout",
     "output_type": "stream",
     "text": [
      "before\n",
      "5\n",
      "after\n",
      "before\n",
      "9\n",
      "after\n",
      "before\n",
      "simple2\n",
      "after\n"
     ]
    }
   ],
   "source": [
    "from typing import Callable\n",
    "\n",
    "def add_text(func: callable):\n",
    "\n",
    "    def wrapper(*args):\n",
    "        print('before')\n",
    "        func(*args)\n",
    "        print('after')\n",
    "\n",
    "    return wrapper\n",
    "\n",
    "\n",
    "@add_text\n",
    "def calc(x):\n",
    "    print(x + 2)\n",
    "\n",
    "@add_text\n",
    "def calc2(x, y):\n",
    "    print(x + y)\n",
    "\n",
    "@add_text\n",
    "def simple2():\n",
    "    print('simple2')\n",
    "\n",
    "calc(3)\n",
    "calc2(3, 6)\n",
    "simple2()"
   ]
  },
  {
   "cell_type": "code",
   "execution_count": 45,
   "metadata": {},
   "outputs": [
    {
     "name": "stdout",
     "output_type": "stream",
     "text": [
      "(2, 4, 6, 7)\n",
      "2 4 6 7\n",
      "sdfs sdfd 2323\n"
     ]
    }
   ],
   "source": [
    "def demo(*args):\n",
    "    print(args) # print((2, 4, 6, 7))\n",
    "    print(*args)  # (2, 4, 6, 7) -> 2, 4, 6, 7 -> print(2, 4, 6, 7)\n",
    "\n",
    "demo(2, 4, 6, 7)\n",
    "print('sdfs', 'sdfd', 2323)"
   ]
  }
 ],
 "metadata": {
  "kernelspec": {
   "display_name": "Python 3",
   "language": "python",
   "name": "python3"
  },
  "language_info": {
   "codemirror_mode": {
    "name": "ipython",
    "version": 3
   },
   "file_extension": ".py",
   "mimetype": "text/x-python",
   "name": "python",
   "nbconvert_exporter": "python",
   "pygments_lexer": "ipython3",
   "version": "3.10.12"
  }
 },
 "nbformat": 4,
 "nbformat_minor": 2
}
