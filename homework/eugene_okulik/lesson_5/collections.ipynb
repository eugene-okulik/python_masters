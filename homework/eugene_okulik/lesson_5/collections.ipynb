{
 "cells": [
  {
   "cell_type": "markdown",
   "metadata": {},
   "source": [
    "# Типы данных в Python\n",
    "Number (целое число)  \n",
    "String (строка)  \n",
    "Boolean (логический тип данных)  \n",
    "Float(числа с плавающей точкой)  \n",
    "List (список)  \n",
    "Dictionary (словарь)  \n",
    "Tuple (кортеж)  \n",
    "Set (множество)  "
   ]
  },
  {
   "cell_type": "markdown",
   "metadata": {},
   "source": [
    "## List(списки)\n",
    "Python список - структура данных для хранения последовательностей.   \n",
    "Экземпляры значений, находящихся в списке, называются элементами списка."
   ]
  },
  {
   "cell_type": "code",
   "execution_count": 10,
   "metadata": {},
   "outputs": [
    {
     "name": "stdout",
     "output_type": "stream",
     "text": [
      "[1, 3, 6, None, 'text', False, 2.42, 42, 'erter']\n",
      "6\n",
      "1\n",
      "2.42\n",
      "erter\n",
      "2.42\n",
      "[1, 3, 6, 484848484, 'text', False, 2.42, 42, 'erter']\n"
     ]
    }
   ],
   "source": [
    "my_list = [1, 3, 6, None, 'text', False, 2.42, 42, 'erter']\n",
    "print(my_list)\n",
    "print(my_list[2])\n",
    "print(my_list[0])\n",
    "my_list[3] = 484848484\n",
    "print(my_list[6])\n",
    "print(my_list[-1])\n",
    "print(my_list[-3])\n",
    "\n",
    "print(my_list)"
   ]
  },
  {
   "cell_type": "code",
   "execution_count": 22,
   "metadata": {},
   "outputs": [
    {
     "name": "stdout",
     "output_type": "stream",
     "text": [
      "[]\n",
      "[]\n",
      "3\n",
      "0\n",
      "world\n",
      "[2, 'text']\n",
      "True\n"
     ]
    }
   ],
   "source": [
    "my_list = []\n",
    "print(my_list)\n",
    "my_list = list()\n",
    "print(my_list)\n",
    "my_list.append(2)\n",
    "my_list.append('text')\n",
    "my_list.insert(1, 'world')\n",
    "print(len(my_list))\n",
    "print(my_list.index(2))\n",
    "poped = my_list.pop(1)\n",
    "print(poped)\n",
    "\n",
    "print(my_list)\n",
    "\n",
    "print('text' in my_list)"
   ]
  },
  {
   "cell_type": "markdown",
   "metadata": {},
   "source": [
    "## Tuple(кортежи)\n",
    "Хранят данные различных типов  \n",
    "Неизменяемы  \n",
    "Занимают меньший размер  \n",
    "Оптимизируются интепретатором   \n",
    "По поведению похожи на списки. Главное отличие - нет функций, позволяющих что-то добавить в кортеж или изменить внутри него"
   ]
  },
  {
   "cell_type": "code",
   "execution_count": 28,
   "metadata": {},
   "outputs": [
    {
     "name": "stdout",
     "output_type": "stream",
     "text": [
      "6\n",
      "False\n",
      "(1, 2, 6, None, 'text', False)\n"
     ]
    }
   ],
   "source": [
    "my_tuple = (1, 2, 6, None, 'text', False)\n",
    "print(my_tuple[2])\n",
    "print(my_tuple[-1])\n",
    "# my_tuple[3] = 934875\n",
    "\n",
    "print(my_tuple)"
   ]
  },
  {
   "cell_type": "code",
   "execution_count": 30,
   "metadata": {},
   "outputs": [
    {
     "name": "stdout",
     "output_type": "stream",
     "text": [
      "2\n",
      "1\n"
     ]
    }
   ],
   "source": [
    "my_tuple = ()\n",
    "my_tuple = tuple()\n",
    "my_tuple = (1, 5, 2, 6, 1)\n",
    "print(my_tuple.count(1))\n",
    "print(my_tuple.index(5))"
   ]
  },
  {
   "cell_type": "code",
   "execution_count": 32,
   "metadata": {},
   "outputs": [
    {
     "name": "stdout",
     "output_type": "stream",
     "text": [
      "2\n",
      "3\n",
      "[1, 3, 90]\n"
     ]
    }
   ],
   "source": [
    "a = 2\n",
    "print(a)\n",
    "a += 1  # переназначение, перезаписывание\n",
    "# a = a + 1\n",
    "print(a)\n",
    "b = 5\n",
    "b = 7\n",
    "llist = [1, 3]\n",
    "llist.append(5)  # Изменение\n",
    "llist[2] = 90  # Изменение\n",
    "print(llist)\n",
    "llist = [1, 3, 90]  # Переназначение"
   ]
  },
  {
   "cell_type": "markdown",
   "metadata": {},
   "source": [
    "## Set(множества)\n",
    "Содержит в себе только неповторяющиеся элементы  \n",
    "Не гарантирует порядок элементов  \n",
    "Работа с ним тоже похожа на работу со списком  "
   ]
  },
  {
   "cell_type": "code",
   "execution_count": 39,
   "metadata": {},
   "outputs": [
    {
     "name": "stdout",
     "output_type": "stream",
     "text": [
      "False 1\n",
      "{3, 6, 'text', None}\n"
     ]
    }
   ],
   "source": [
    "my_set = {1, 3, 6, None, 'text', False, 1, 3, 6, None, 'text', False}\n",
    "# print(my_set[2])\n",
    "my_set.add(42)\n",
    "my_set.add(3)\n",
    "my_set.remove(42)\n",
    "poped_1 = my_set.pop()\n",
    "poped_2 = my_set.pop()\n",
    "print(poped_1, poped_2)\n",
    "print(my_set)"
   ]
  },
  {
   "cell_type": "code",
   "execution_count": 40,
   "metadata": {},
   "outputs": [
    {
     "name": "stdout",
     "output_type": "stream",
     "text": [
      "<class 'dict'>\n",
      "<class 'set'>\n"
     ]
    }
   ],
   "source": [
    "my_set = {}\n",
    "print(type(my_set))\n",
    "my_set = set()\n",
    "print(type(my_set))\n"
   ]
  },
  {
   "cell_type": "markdown",
   "metadata": {},
   "source": [
    "## Dictionary(словари)\n",
    "Словари в Python - коллекции произвольных объектов с доступом по ключу. Их иногда ещё называют ассоциативными массивами или хеш-таблицами.  \n",
    "  \n",
    "данные в словаре - это пары ключ: значение  \n",
    "доступ к значениям осуществляется по ключу, а не по номеру, как в списках  \n",
    "данные в словаре упорядочены по порядку добавления элементов  \n",
    "так как словари изменяемы, то элементы словаря можно менять, добавлять, удалять  \n",
    "ключ должен быть объектом неизменяемого типа: число, строка, кортеж  \n",
    "значение может быть данными любого типа  "
   ]
  },
  {
   "cell_type": "code",
   "execution_count": 60,
   "metadata": {},
   "outputs": [
    {
     "name": "stdout",
     "output_type": "stream",
     "text": [
      "value1\n",
      "2\n",
      "{'one': 'lskdfjlsdkjflskdfj', 'two': 'value2', 'three': False, 'four': [1, 2, 4], 'five': {8, 1, 5}, 'seven': {2: 34, 45: 23}, 'six': 42, 5: 'skdjfhskjdfh', 2.42: 'skdjhfksjdhf', False: 'skdfjhskldjfsd', (1, 4, 6): 'skdjhwieuywieur'}\n",
      "dict_keys(['one', 'two', 'three', 'four', 'five', 'seven', 'six', 5, 2.42, False, (1, 4, 6)])\n",
      "dict_values(['lskdfjlsdkjflskdfj', 'value2', False, [1, 2, 4], {8, 1, 5}, {2: 34, 45: 23}, 42, 'skdjfhskjdfh', 'skdjhfksjdhf', 'skdfjhskldjfsd', 'skdjhwieuywieur'])\n",
      "dict_items([('one', 'lskdfjlsdkjflskdfj'), ('two', 'value2'), ('three', False), ('four', [1, 2, 4]), ('five', {8, 1, 5}), ('seven', {2: 34, 45: 23}), ('six', 42), (5, 'skdjfhskjdfh'), (2.42, 'skdjhfksjdhf'), (False, 'skdfjhskldjfsd'), ((1, 4, 6), 'skdjhwieuywieur')])\n"
     ]
    }
   ],
   "source": [
    "my_dict = {'one': 'value1', 'two': 'value2'}\n",
    "print(my_dict['one'])\n",
    "print(len(my_dict))\n",
    "my_dict['one'] = 'lskdfjlsdkjflskdfj'\n",
    "my_dict['three'] = False\n",
    "my_dict['four'] = [1, 2, 4]\n",
    "my_dict['five'] = {1, 5, 8, 5}\n",
    "my_dict['seven'] = {2: 34, 45: 23}\n",
    "my_dict['six'] = 42\n",
    "my_dict[5] = 'skdjfhskjdfh'\n",
    "my_dict[2.42] = 'skdjhfksjdhf'\n",
    "my_dict[False] = 'skdfjhskldjfsd'\n",
    "# my_dict[[1, 4]] = 'sdjfhskdjf'\n",
    "# my_dict[{1, 4}] = 'sdjfhskdjf'\n",
    "# my_dict[{1: 2, 4: 5}] = 'sdjfhskdjf'\n",
    "my_dict[(1, 4, 6)] = 'skdjhwieuywieur'\n",
    "print(my_dict)\n",
    "\n",
    "\n",
    "print(my_dict.keys())\n",
    "print(my_dict.values())\n",
    "print(my_dict.items())"
   ]
  },
  {
   "cell_type": "markdown",
   "metadata": {},
   "source": [
    "### Срез  \n",
    "Извлечение среза позволяет взять из списка определенную его часть"
   ]
  },
  {
   "cell_type": "code",
   "execution_count": 72,
   "metadata": {},
   "outputs": [
    {
     "name": "stdout",
     "output_type": "stream",
     "text": [
      "[1, 3, 5, 2, 5, 7, 1, 3]\n",
      "[5, 2, 5, 7]\n",
      "[5, 2, 5, 7, 1, 3]\n",
      "[1, 3, 5, 2, 5, 7]\n",
      "[1, 5, 5, 1]\n",
      "[1, 3, 5, 2, 5, 7, 1, 3]\n",
      "[3, 1, 7, 5, 2, 5, 3, 1]\n",
      "[1, 7, 5, 2]\n",
      "[]\n",
      "[]\n",
      "cde\n",
      "(5, 2, 5)\n"
     ]
    }
   ],
   "source": [
    "lll = [1, 3, 5, 2, 5, 7 ,1, 3]\n",
    "\n",
    "print(lll)\n",
    "print(lll[2:6])\n",
    "print(lll[2:])\n",
    "print(lll[:6])\n",
    "print(lll[::2])\n",
    "print(lll[::1])\n",
    "print(lll[::-1])\n",
    "print(lll[-2:-6:-1])\n",
    "print(lll[-2:-6])\n",
    "print(lll[7:2])\n",
    "text = 'abcdefgh'\n",
    "print(text[2:5])\n",
    "my_tuple = (1, 3, 5, 2, 5, 7 ,1, 3)\n",
    "print(my_tuple[2:5])"
   ]
  }
 ],
 "metadata": {
  "kernelspec": {
   "display_name": "Python 3",
   "language": "python",
   "name": "python3"
  },
  "language_info": {
   "codemirror_mode": {
    "name": "ipython",
    "version": 3
   },
   "file_extension": ".py",
   "mimetype": "text/x-python",
   "name": "python",
   "nbconvert_exporter": "python",
   "pygments_lexer": "ipython3",
   "version": "3.10.12"
  }
 },
 "nbformat": 4,
 "nbformat_minor": 2
}
