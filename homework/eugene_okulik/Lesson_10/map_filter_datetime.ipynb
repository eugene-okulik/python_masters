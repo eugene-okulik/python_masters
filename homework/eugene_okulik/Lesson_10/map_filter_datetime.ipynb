{
 "cells": [
  {
   "cell_type": "markdown",
   "metadata": {},
   "source": [
    "## Map"
   ]
  },
  {
   "cell_type": "code",
   "execution_count": 1,
   "metadata": {},
   "outputs": [
    {
     "name": "stdout",
     "output_type": "stream",
     "text": [
      "[2, 4, 6, 8, 10]\n"
     ]
    }
   ],
   "source": [
    "my_list = [1, 2, 3, 4, 5]\n",
    "\n",
    "new_list = []\n",
    "for x in my_list:\n",
    "    new_list.append(x * 2)\n",
    "\n",
    "\n",
    "print(new_list)"
   ]
  },
  {
   "cell_type": "markdown",
   "metadata": {},
   "source": [
    "Применение операции к каждому элементу"
   ]
  },
  {
   "cell_type": "code",
   "execution_count": 4,
   "metadata": {},
   "outputs": [
    {
     "name": "stdout",
     "output_type": "stream",
     "text": [
      "<map object at 0x7f25e37dd930>\n",
      "[2, 4, 6, 8, 10]\n"
     ]
    }
   ],
   "source": [
    "my_list = [1, 2, 3, 4, 5]\n",
    "\n",
    "def mult_by_2(x):\n",
    "    return x * 2\n",
    "\n",
    "new_list = map(mult_by_2, my_list)  # mult_by_2(my_list[0]) -> mult_by_2(my_list[1]) -> ...\n",
    "print(new_list)\n",
    "\n",
    "print(list(new_list))\n",
    "\n",
    "for x in new_list:\n",
    "    print(x)"
   ]
  },
  {
   "cell_type": "code",
   "execution_count": 12,
   "metadata": {},
   "outputs": [
    {
     "name": "stdout",
     "output_type": "stream",
     "text": [
      "[2, 4, 6, 8, 10]\n"
     ]
    }
   ],
   "source": [
    "my_list = [1, 2, 3, 4, 5]\n",
    "\n",
    "\n",
    "new_list = map(lambda x: x * 2, my_list)\n",
    "\n",
    "print(list(new_list))"
   ]
  },
  {
   "cell_type": "code",
   "execution_count": 20,
   "metadata": {},
   "outputs": [
    {
     "name": "stdout",
     "output_type": "stream",
     "text": [
      "{'hey1': 'val1upd', 'key2': 'val2upd'}\n"
     ]
    }
   ],
   "source": [
    "my_dict = {'hey1': 'val1', 'key2': 'val2'}\n",
    "\n",
    "\n",
    "new_result = dict(map(lambda x: (x[0], x[1] + 'upd'), my_dict.items()))\n",
    "print(new_result)\n",
    "# new_dict = dict(new_result)\n",
    "# print(new_dict)"
   ]
  },
  {
   "cell_type": "code",
   "execution_count": 27,
   "metadata": {},
   "outputs": [
    {
     "name": "stdout",
     "output_type": "stream",
     "text": [
      "{'hey1': 'val1upd', 'key2': 'val2upd'}\n"
     ]
    }
   ],
   "source": [
    "my_dict = {'hey1': 'val1', 'key2': 'val2'}\n",
    "\n",
    "new_result = dict(map(lambda key: (key, my_dict[key] + 'upd'), my_dict))\n",
    "print(new_result)"
   ]
  },
  {
   "cell_type": "markdown",
   "metadata": {},
   "source": [
    "## Filter\n"
   ]
  },
  {
   "cell_type": "code",
   "execution_count": 28,
   "metadata": {},
   "outputs": [
    {
     "name": "stdout",
     "output_type": "stream",
     "text": [
      "[2, 4, 6, 8]\n"
     ]
    }
   ],
   "source": [
    "my_list2 = [1, 2, 3, 4, 5, 6, 7, 8]\n",
    "\n",
    "new_list2 = []\n",
    "for x in my_list2:\n",
    "    if x % 2 == 0:\n",
    "        new_list2.append(x)\n",
    "\n",
    "print(new_list2)\n",
    "\n"
   ]
  },
  {
   "cell_type": "code",
   "execution_count": 32,
   "metadata": {},
   "outputs": [
    {
     "name": "stdout",
     "output_type": "stream",
     "text": [
      "<filter object at 0x7f25e37df490>\n",
      "[2, 4, 6, 8]\n"
     ]
    }
   ],
   "source": [
    "my_list2 = [1, 2, 3, 4, 5, 6, 7, 8]\n",
    "\n",
    "def is_even(x):\n",
    "    if x % 2 == 0:\n",
    "        return True\n",
    "    else:\n",
    "        return False\n",
    "\n",
    "new_list2 = filter(is_even, my_list2)\n",
    "\n",
    "print(new_list2)\n",
    "print(list(new_list2))"
   ]
  },
  {
   "cell_type": "markdown",
   "metadata": {},
   "source": [
    "Вот так не работает"
   ]
  },
  {
   "cell_type": "code",
   "execution_count": 36,
   "metadata": {},
   "outputs": [
    {
     "name": "stdout",
     "output_type": "stream",
     "text": [
      "<map object at 0x7f25e37dcdf0>\n"
     ]
    },
    {
     "ename": "AttributeError",
     "evalue": "'map' object has no attribute 'append'",
     "output_type": "error",
     "traceback": [
      "\u001b[0;31m---------------------------------------------------------------------------\u001b[0m",
      "\u001b[0;31mAttributeError\u001b[0m                            Traceback (most recent call last)",
      "\u001b[0;32m/tmp/ipykernel_3522011/4168674635.py\u001b[0m in \u001b[0;36m<module>\u001b[0;34m\u001b[0m\n\u001b[1;32m      9\u001b[0m \u001b[0;34m\u001b[0m\u001b[0m\n\u001b[1;32m     10\u001b[0m \u001b[0mprint\u001b[0m\u001b[0;34m(\u001b[0m\u001b[0mnew_list3\u001b[0m\u001b[0;34m)\u001b[0m\u001b[0;34m\u001b[0m\u001b[0;34m\u001b[0m\u001b[0m\n\u001b[0;32m---> 11\u001b[0;31m \u001b[0mprint\u001b[0m\u001b[0;34m(\u001b[0m\u001b[0mlist\u001b[0m\u001b[0;34m(\u001b[0m\u001b[0mnew_list3\u001b[0m\u001b[0;34m)\u001b[0m\u001b[0;34m)\u001b[0m\u001b[0;34m\u001b[0m\u001b[0;34m\u001b[0m\u001b[0m\n\u001b[0m",
      "\u001b[0;32m/tmp/ipykernel_3522011/4168674635.py\u001b[0m in \u001b[0;36mwhat_to_add\u001b[0;34m(x)\u001b[0m\n\u001b[1;32m      4\u001b[0m \u001b[0;32mdef\u001b[0m \u001b[0mwhat_to_add\u001b[0m\u001b[0;34m(\u001b[0m\u001b[0mx\u001b[0m\u001b[0;34m)\u001b[0m\u001b[0;34m:\u001b[0m\u001b[0;34m\u001b[0m\u001b[0;34m\u001b[0m\u001b[0m\n\u001b[1;32m      5\u001b[0m     \u001b[0;32mif\u001b[0m \u001b[0mx\u001b[0m \u001b[0;34m%\u001b[0m \u001b[0;36m2\u001b[0m \u001b[0;34m==\u001b[0m \u001b[0;36m0\u001b[0m\u001b[0;34m:\u001b[0m\u001b[0;34m\u001b[0m\u001b[0;34m\u001b[0m\u001b[0m\n\u001b[0;32m----> 6\u001b[0;31m         \u001b[0mnew_list3\u001b[0m\u001b[0;34m.\u001b[0m\u001b[0mappend\u001b[0m\u001b[0;34m(\u001b[0m\u001b[0mx\u001b[0m\u001b[0;34m)\u001b[0m  \u001b[0;31m#  вот так не работает\u001b[0m\u001b[0;34m\u001b[0m\u001b[0;34m\u001b[0m\u001b[0m\n\u001b[0m\u001b[1;32m      7\u001b[0m \u001b[0;34m\u001b[0m\u001b[0m\n\u001b[1;32m      8\u001b[0m \u001b[0mnew_list3\u001b[0m \u001b[0;34m=\u001b[0m \u001b[0mmap\u001b[0m\u001b[0;34m(\u001b[0m\u001b[0mwhat_to_add\u001b[0m\u001b[0;34m,\u001b[0m \u001b[0mmy_list3\u001b[0m\u001b[0;34m)\u001b[0m  \u001b[0;31m#  вот так не работает\u001b[0m\u001b[0;34m\u001b[0m\u001b[0;34m\u001b[0m\u001b[0m\n",
      "\u001b[0;31mAttributeError\u001b[0m: 'map' object has no attribute 'append'"
     ]
    }
   ],
   "source": [
    "my_list3 = [1, 2, 3, 4, 5, 6, 7, 8]\n",
    "\n",
    "new_list3 = []\n",
    "def what_to_add(x):\n",
    "    if x % 2 == 0:\n",
    "        new_list3.append(x)  #  вот так не работает\n",
    "\n",
    "new_list3 = map(what_to_add, my_list3)  #  вот так не работает\n",
    "\n",
    "print(new_list3)\n",
    "print(list(new_list3))"
   ]
  },
  {
   "cell_type": "markdown",
   "metadata": {},
   "source": [
    "Ранний выход"
   ]
  },
  {
   "cell_type": "code",
   "execution_count": 37,
   "metadata": {},
   "outputs": [
    {
     "name": "stdout",
     "output_type": "stream",
     "text": [
      "<filter object at 0x7f25e37def80>\n",
      "[2, 4, 6, 8]\n"
     ]
    }
   ],
   "source": [
    "my_list2 = [1, 2, 3, 4, 5, 6, 7, 8]\n",
    "\n",
    "def is_even(x):\n",
    "    if x % 2 == 0:\n",
    "        return True  # ранний выход\n",
    "    return False\n",
    "\n",
    "new_list2 = filter(is_even, my_list2)\n",
    "\n",
    "print(new_list2)\n",
    "print(list(new_list2))"
   ]
  },
  {
   "cell_type": "code",
   "execution_count": 38,
   "metadata": {},
   "outputs": [
    {
     "name": "stdout",
     "output_type": "stream",
     "text": [
      "<filter object at 0x7f25e37de320>\n",
      "[2, 4, 6, 8]\n"
     ]
    }
   ],
   "source": [
    "my_list2 = [1, 2, 3, 4, 5, 6, 7, 8]\n",
    "\n",
    "def is_even(x):\n",
    "    return x % 2 == 0\n",
    "\n",
    "new_list2 = filter(is_even, my_list2)\n",
    "\n",
    "print(new_list2)\n",
    "print(list(new_list2))"
   ]
  },
  {
   "cell_type": "code",
   "execution_count": 39,
   "metadata": {},
   "outputs": [
    {
     "name": "stdout",
     "output_type": "stream",
     "text": [
      "<filter object at 0x7f25e37dfdc0>\n",
      "[2, 4, 6, 8]\n"
     ]
    }
   ],
   "source": [
    "my_list2 = [1, 2, 3, 4, 5, 6, 7, 8]\n",
    "\n",
    "new_list2 = filter(lambda x: x % 2 == 0, my_list2)\n",
    "\n",
    "print(new_list2)\n",
    "print(list(new_list2))"
   ]
  },
  {
   "cell_type": "code",
   "execution_count": 43,
   "metadata": {},
   "outputs": [
    {
     "name": "stdout",
     "output_type": "stream",
     "text": [
      "<filter object at 0x7f25e37deb30>\n",
      "[2, 4, 6, 8]\n"
     ]
    }
   ],
   "source": [
    "my_list2 = [1, 2, 3, 4, 5, 6, 7, 8]\n",
    "\n",
    "new_list2 = filter(lambda x: True if x % 2 == 0 else False, my_list2)\n",
    "\n",
    "print(new_list2)\n",
    "print(list(new_list2))"
   ]
  },
  {
   "cell_type": "markdown",
   "metadata": {},
   "source": [
    "Тернарный оператор"
   ]
  },
  {
   "cell_type": "code",
   "execution_count": 56,
   "metadata": {},
   "outputs": [
    {
     "name": "stdout",
     "output_type": "stream",
     "text": [
      "9\n"
     ]
    }
   ],
   "source": [
    "d = 5\n",
    "e = 4\n",
    "\n",
    "f = e if e > d else d + e\n",
    "# f = e if e > d else d if d == e else d + e\n",
    "# if e > d: f = e\n",
    "    \n",
    "print(f)"
   ]
  },
  {
   "cell_type": "code",
   "execution_count": 59,
   "metadata": {},
   "outputs": [
    {
     "data": {
      "text/plain": [
       "7"
      ]
     },
     "execution_count": 59,
     "metadata": {},
     "output_type": "execute_result"
    }
   ],
   "source": [
    "# data = 'na'\n",
    "data = 5\n",
    "\n",
    "def calc(x):\n",
    "    return x + 2\n",
    "\n",
    "data = data if isinstance(data, int) else 0\n",
    "\n",
    "calc(data)"
   ]
  }
 ],
 "metadata": {
  "kernelspec": {
   "display_name": "Python 3",
   "language": "python",
   "name": "python3"
  },
  "language_info": {
   "codemirror_mode": {
    "name": "ipython",
    "version": 3
   },
   "file_extension": ".py",
   "mimetype": "text/x-python",
   "name": "python",
   "nbconvert_exporter": "python",
   "pygments_lexer": "ipython3",
   "version": "3.10.12"
  }
 },
 "nbformat": 4,
 "nbformat_minor": 2
}
