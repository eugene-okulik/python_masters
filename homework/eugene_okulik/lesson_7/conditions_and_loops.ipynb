{
 "cells": [
  {
   "cell_type": "markdown",
   "metadata": {},
   "source": [
    "# Условия"
   ]
  },
  {
   "cell_type": "code",
   "execution_count": 2,
   "metadata": {},
   "outputs": [
    {
     "name": "stdout",
     "output_type": "stream",
     "text": [
      "Hello, Mr Robert\n"
     ]
    }
   ],
   "source": [
    "# name = 'Bob'\n",
    "name = 'Robert'\n",
    "\n",
    "if len(name) < 5:\n",
    "    print(f'Hi, {name}')\n",
    "else:\n",
    "    print(f'Hello, Mr {name}')"
   ]
  },
  {
   "cell_type": "markdown",
   "metadata": {},
   "source": [
    "Симулятор студента.\n",
    "Для студента есть четыре количества: один, два, три и много"
   ]
  },
  {
   "cell_type": "code",
   "execution_count": 8,
   "metadata": {},
   "outputs": [
    {
     "name": "stdout",
     "output_type": "stream",
     "text": [
      "Two\n"
     ]
    }
   ],
   "source": [
    "user_input = int(input('your number: '))\n",
    "\n",
    "if user_input == 1:\n",
    "    print('One')\n",
    "elif user_input == 2:\n",
    "    print('Two')\n",
    "elif user_input == 3:\n",
    "    print('Three')\n",
    "else:\n",
    "    print('Many')"
   ]
  },
  {
   "cell_type": "markdown",
   "metadata": {},
   "source": [
    "Вложенные условия"
   ]
  },
  {
   "cell_type": "code",
   "execution_count": 17,
   "metadata": {},
   "outputs": [
    {
     "name": "stdout",
     "output_type": "stream",
     "text": [
      "Enter a number please\n"
     ]
    }
   ],
   "source": [
    "user_input = input('your number: ')\n",
    "\n",
    "if user_input.isnumeric():\n",
    "    user_input = int(user_input)\n",
    "    if user_input == 1:\n",
    "        print('One')\n",
    "    elif user_input == 2:\n",
    "        print('Two')\n",
    "    elif user_input == 3:\n",
    "        print('Three')\n",
    "    else:\n",
    "        print('Many')\n",
    "else:\n",
    "    print('Enter a number please')"
   ]
  },
  {
   "cell_type": "markdown",
   "metadata": {},
   "source": [
    "Много уровней вложенности"
   ]
  },
  {
   "cell_type": "code",
   "execution_count": 20,
   "metadata": {},
   "outputs": [
    {
     "name": "stdout",
     "output_type": "stream",
     "text": [
      "Many\n"
     ]
    }
   ],
   "source": [
    "user_input = input('your number: ')\n",
    "\n",
    "if user_input.isnumeric():\n",
    "    user_input = int(user_input)\n",
    "    if user_input == 1:\n",
    "        print('One')\n",
    "    elif user_input == 2:\n",
    "        print('Two')\n",
    "    elif user_input == 3:\n",
    "        print('Three')\n",
    "    else:\n",
    "        if user_input < 100:\n",
    "            if user_input < 50:\n",
    "                print('small many')\n",
    "            else:\n",
    "                print('Many')\n",
    "        else:\n",
    "            print('Too many')\n",
    "else:\n",
    "    print('Enter a number please')"
   ]
  },
  {
   "cell_type": "markdown",
   "metadata": {},
   "source": [
    "# Loops - циклы\n"
   ]
  },
  {
   "cell_type": "markdown",
   "metadata": {},
   "source": [
    "### for loop - Цикл for"
   ]
  },
  {
   "cell_type": "code",
   "execution_count": 22,
   "metadata": {},
   "outputs": [
    {
     "name": "stdout",
     "output_type": "stream",
     "text": [
      "['John', 'Tim', 'James', 'Bob', 'Jim', 'Bill', 'Tom']\n",
      "John\n",
      "Tim\n",
      "James\n",
      "Bob\n",
      "Jim\n",
      "Bill\n"
     ]
    }
   ],
   "source": [
    "names = ['John', 'Tim', 'James', 'Bob', 'Jim', 'Bill', 'Tom']\n",
    "print(names)\n",
    "print(names[0])\n",
    "print(names[1])\n",
    "print(names[2])\n",
    "print(names[3])\n",
    "print(names[4])\n",
    "print(names[5])"
   ]
  },
  {
   "cell_type": "code",
   "execution_count": 23,
   "metadata": {},
   "outputs": [
    {
     "name": "stdout",
     "output_type": "stream",
     "text": [
      "John\n",
      "Tim\n",
      "James\n",
      "Bob\n",
      "Jim\n",
      "Bill\n",
      "the end\n"
     ]
    }
   ],
   "source": [
    "names = ['John', 'Tim', 'James', 'Bob', 'Jim', 'Bill']\n",
    "\n",
    "for name in names:\n",
    "    print(name)\n",
    "\n",
    "print('the end')"
   ]
  },
  {
   "cell_type": "code",
   "execution_count": 29,
   "metadata": {},
   "outputs": [
    {
     "name": "stdout",
     "output_type": "stream",
     "text": [
      "Tim James Jim Tom Bob\n",
      "['Tim', 'James', 'Jim', 'Tom', 'Bob']\n",
      "Tim\n",
      "James\n",
      "Jim\n",
      "Tom\n",
      "Bob\n",
      "the end\n"
     ]
    }
   ],
   "source": [
    "names = input('Enter names divided by space:')\n",
    "print(names)\n",
    "names = names.split()\n",
    "print(names)\n",
    "\n",
    "for name in names:\n",
    "    print(name)\n",
    "\n",
    "print('the end')"
   ]
  },
  {
   "cell_type": "code",
   "execution_count": 30,
   "metadata": {},
   "outputs": [
    {
     "name": "stdout",
     "output_type": "stream",
     "text": [
      "Hi, Tim\n",
      "Hello, Mr.James\n",
      "Hi, Jim\n",
      "Hi, Tom\n",
      "Hi, Bob\n",
      "the end\n"
     ]
    }
   ],
   "source": [
    "names = input('Enter names divided by space:')\n",
    "names = names.split()\n",
    "\n",
    "for name in names:\n",
    "    if len(name) < 4:\n",
    "        print(f'Hi, {name}')\n",
    "    else:\n",
    "        print(f'Hello, Mr.{name}')\n",
    "\n",
    "print('the end')"
   ]
  },
  {
   "cell_type": "code",
   "execution_count": 33,
   "metadata": {},
   "outputs": [
    {
     "name": "stdout",
     "output_type": "stream",
     "text": [
      "Hi, Tim\n",
      "Hi, Jim\n",
      "Hi, Tom\n",
      "Hi, Bob\n",
      "Hello, Mr.James\n",
      "Hello, Mr.Robert\n",
      "the end\n"
     ]
    }
   ],
   "source": [
    "names = input('Enter names divided by space:')\n",
    "names = names.split()\n",
    "\n",
    "mrs = []\n",
    "for name in names:\n",
    "    if len(name) < 4:\n",
    "        print(f'Hi, {name}')\n",
    "    else:\n",
    "        mrs.append(name)\n",
    "\n",
    "for mr in mrs:\n",
    "    print(f'Hello, Mr.{mr}')\n",
    "\n",
    "print('the end')"
   ]
  },
  {
   "cell_type": "code",
   "execution_count": 34,
   "metadata": {},
   "outputs": [
    {
     "name": "stdout",
     "output_type": "stream",
     "text": [
      "John\n",
      "Tim\n",
      "James\n",
      "Bob\n",
      "Jim\n",
      "Bill\n",
      "the end\n"
     ]
    }
   ],
   "source": [
    "names = ('John', 'Tim', 'James', 'Bob', 'Jim', 'Bill')\n",
    "\n",
    "for name in names:\n",
    "    print(name)\n",
    "\n",
    "print('the end')"
   ]
  },
  {
   "cell_type": "code",
   "execution_count": 35,
   "metadata": {},
   "outputs": [
    {
     "name": "stdout",
     "output_type": "stream",
     "text": [
      "Bob\n",
      "John\n",
      "Tim\n",
      "James\n",
      "Jim\n",
      "Bill\n",
      "the end\n"
     ]
    }
   ],
   "source": [
    "names = {'John', 'Tim', 'James', 'Bob', 'Jim', 'Bill'}\n",
    "\n",
    "for name in names:\n",
    "    print(name)\n",
    "\n",
    "print('the end')"
   ]
  },
  {
   "cell_type": "code",
   "execution_count": 36,
   "metadata": {},
   "outputs": [
    {
     "name": "stdout",
     "output_type": "stream",
     "text": [
      "John\n",
      "Tom\n",
      "James\n"
     ]
    }
   ],
   "source": [
    "persons = {'John': 132, 'Tom': 167, 'James': 234}\n",
    "\n",
    "for person in persons:\n",
    "    print(person)"
   ]
  },
  {
   "cell_type": "code",
   "execution_count": 37,
   "metadata": {},
   "outputs": [
    {
     "name": "stdout",
     "output_type": "stream",
     "text": [
      "132\n",
      "167\n",
      "234\n"
     ]
    }
   ],
   "source": [
    "persons = {'John': 132, 'Tom': 167, 'James': 234}\n",
    "\n",
    "for person in persons:\n",
    "    print(persons[person])"
   ]
  },
  {
   "cell_type": "code",
   "execution_count": 38,
   "metadata": {},
   "outputs": [
    {
     "name": "stdout",
     "output_type": "stream",
     "text": [
      "John: 132\n",
      "Tom: 167\n",
      "James: 234\n"
     ]
    }
   ],
   "source": [
    "persons = {'John': 132, 'Tom': 167, 'James': 234}\n",
    "\n",
    "for person in persons:\n",
    "    print(f'{person}: {persons[person]}')"
   ]
  },
  {
   "cell_type": "code",
   "execution_count": 40,
   "metadata": {},
   "outputs": [
    {
     "name": "stdout",
     "output_type": "stream",
     "text": [
      "dict_keys(['John', 'Tom', 'James'])\n",
      "John\n",
      "Tom\n",
      "James\n"
     ]
    }
   ],
   "source": [
    "persons = {'John': 132, 'Tom': 167, 'James': 234}\n",
    "\n",
    "print(persons.keys())\n",
    "for key in persons.keys():\n",
    "    print(key)"
   ]
  },
  {
   "cell_type": "code",
   "execution_count": 42,
   "metadata": {},
   "outputs": [
    {
     "name": "stdout",
     "output_type": "stream",
     "text": [
      "dict_values([132, 167, 234])\n",
      "132\n",
      "167\n",
      "234\n"
     ]
    }
   ],
   "source": [
    "persons = {'John': 132, 'Tom': 167, 'James': 234}\n",
    "\n",
    "print(persons.values())\n",
    "\n",
    "for value in persons.values():\n",
    "    print(value)"
   ]
  },
  {
   "cell_type": "code",
   "execution_count": 46,
   "metadata": {},
   "outputs": [
    {
     "name": "stdout",
     "output_type": "stream",
     "text": [
      "dict_items([('John', 132), ('Tom', 167), ('James', 234)])\n",
      "John: 132\n",
      "Tom: 167\n",
      "James: 234\n"
     ]
    }
   ],
   "source": [
    "persons = {'John': 132, 'Tom': 167, 'James': 234}\n",
    "\n",
    "print(persons.items())\n",
    "\n",
    "for name, height in persons.items():\n",
    "    # name, height = person\n",
    "    print(f'{name}: {height}')"
   ]
  },
  {
   "cell_type": "code",
   "execution_count": 47,
   "metadata": {},
   "outputs": [
    {
     "name": "stdout",
     "output_type": "stream",
     "text": [
      "dict_items([('John', 132), ('Tom', 167), ('James', 234)])\n",
      "Hi, John\n",
      "Hi, Tom\n",
      "Hello, Sir James\n"
     ]
    }
   ],
   "source": [
    "persons = {'John': 132, 'Tom': 167, 'James': 234}\n",
    "\n",
    "print(persons.items())\n",
    "\n",
    "for name, height in persons.items():\n",
    "    if height < 200:\n",
    "        print(f'Hi, {name}')\n",
    "    else:\n",
    "        print(f'Hello, Sir {name}')"
   ]
  },
  {
   "cell_type": "markdown",
   "metadata": {},
   "source": []
  },
  {
   "cell_type": "code",
   "execution_count": 48,
   "metadata": {},
   "outputs": [
    {
     "name": "stdout",
     "output_type": "stream",
     "text": [
      "3\n",
      "6\n",
      "8\n"
     ]
    }
   ],
   "source": [
    "values = [[1, 2, 3, 4], [2, 5, 6, 8], [4, 7, 8, 3]]\n",
    "\n",
    "for first, second, third, fourth in values:\n",
    "    print(third)"
   ]
  }
 ],
 "metadata": {
  "kernelspec": {
   "display_name": "Python 3 (ipykernel)",
   "language": "python",
   "name": "python3"
  },
  "language_info": {
   "codemirror_mode": {
    "name": "ipython",
    "version": 3
   },
   "file_extension": ".py",
   "mimetype": "text/x-python",
   "name": "python",
   "nbconvert_exporter": "python",
   "pygments_lexer": "ipython3",
   "version": "3.10.12"
  }
 },
 "nbformat": 4,
 "nbformat_minor": 2
}
