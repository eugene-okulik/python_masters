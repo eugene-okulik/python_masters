{
 "cells": [
  {
   "cell_type": "code",
   "execution_count": 5,
   "metadata": {},
   "outputs": [
    {
     "name": "stdout",
     "output_type": "stream",
     "text": [
      "range(0, 15)\n",
      "<class 'range'>\n",
      "0\n",
      "1\n",
      "2\n",
      "3\n",
      "4\n",
      "5\n",
      "6\n",
      "7\n",
      "8\n",
      "9\n",
      "10\n",
      "11\n",
      "12\n",
      "13\n",
      "14\n"
     ]
    }
   ],
   "source": [
    "print(range(15))\n",
    "\n",
    "print(type(range(15)))\n",
    "\n",
    "for x in range(1500000000000000000000000000000000000):\n",
    "    print(x)"
   ]
  },
  {
   "cell_type": "markdown",
   "metadata": {},
   "source": [
    "while loop - цикл while"
   ]
  },
  {
   "cell_type": "code",
   "execution_count": 15,
   "metadata": {},
   "outputs": [
    {
     "name": "stdout",
     "output_type": "stream",
     "text": [
      "0. Hello\n",
      "1. Hello\n",
      "2. Hello\n",
      "3. Hello\n",
      "4. Hello\n",
      "the end\n"
     ]
    }
   ],
   "source": [
    "count = 0\n",
    "\n",
    "while count < 5:\n",
    "    print(f'{count}. Hello')\n",
    "    count += 1\n",
    "\n",
    "print('the end')"
   ]
  },
  {
   "cell_type": "code",
   "execution_count": 28,
   "metadata": {},
   "outputs": [
    {
     "name": "stdout",
     "output_type": "stream",
     "text": [
      "xzcvxczvbxcz\n",
      "the end\n"
     ]
    }
   ],
   "source": [
    "user_input = input('Something:')\n",
    "\n",
    "while user_input != '.':\n",
    "    print(user_input)\n",
    "    user_input = input('Something:')\n",
    "\n",
    "print('the end')"
   ]
  },
  {
   "cell_type": "markdown",
   "metadata": {},
   "source": [
    "То же самое, но с использованием оператора \"морж\""
   ]
  },
  {
   "cell_type": "code",
   "execution_count": 12,
   "metadata": {},
   "outputs": [
    {
     "name": "stdout",
     "output_type": "stream",
     "text": [
      "wergwegwer\n",
      "wergwegrwe\n",
      "qqwerwqerqwer\n",
      "the end\n"
     ]
    }
   ],
   "source": [
    "while (user_input := input('Something:')) != '.':\n",
    "    print(user_input)\n",
    "\n",
    "print('the end')"
   ]
  },
  {
   "cell_type": "code",
   "execution_count": 20,
   "metadata": {},
   "outputs": [
    {
     "name": "stdout",
     "output_type": "stream",
     "text": [
      "sdfsdafasdf\n",
      "Once more\n",
      "skipping......\n",
      "skipping......\n",
      "skipping......\n",
      "skipping......\n",
      "skipping......\n",
      "asdfjhskafhlkajshd\n",
      "Once more\n",
      "asjdfhaksjdhfa\n",
      "Once more\n"
     ]
    }
   ],
   "source": [
    "while True:\n",
    "    user_input = input('something:')\n",
    "    if user_input == '':\n",
    "        print('skipping......')\n",
    "        continue\n",
    "    elif user_input != '.':\n",
    "        print(user_input)\n",
    "    else:\n",
    "        break\n",
    "    print('Once more')"
   ]
  },
  {
   "cell_type": "code",
   "execution_count": 27,
   "metadata": {},
   "outputs": [
    {
     "name": "stdout",
     "output_type": "stream",
     "text": [
      "Sed\n",
      "vitae\n",
      "malesuada,\n",
      "eu,\n",
      "bibendum\n"
     ]
    }
   ],
   "source": [
    "text = 'Sed vitae justo malesuada, commodo  libero eu, bibendum ;end; mauris.'\n",
    "\n",
    "words = text.split()\n",
    "for word in words:\n",
    "    if word == ';end;':\n",
    "        break\n",
    "    elif 'o' in word:\n",
    "        continue\n",
    "    print(word)"
   ]
  },
  {
   "cell_type": "markdown",
   "metadata": {},
   "source": [
    "## Functions"
   ]
  },
  {
   "cell_type": "markdown",
   "metadata": {},
   "source": [
    "Это самые основные программные структуры в языке Python, позволяющие многократное использование программного кода и уменьшающие его избыточность. Так же позволяют разбить сложную систему на достаточно простые и легко управляемые части. Они могут принимать аргументы и возвращать результаты выполнения."
   ]
  },
  {
   "cell_type": "markdown",
   "metadata": {},
   "source": [
    "DRY - don't repeat yourself"
   ]
  },
  {
   "cell_type": "code",
   "execution_count": 33,
   "metadata": {},
   "outputs": [
    {
     "name": "stdout",
     "output_type": "stream",
     "text": [
      "the number is 1\n",
      "the number is 5\n",
      "the number is 4\n",
      "the number is 7\n"
     ]
    }
   ],
   "source": [
    "a = 1\n",
    "b = 5\n",
    "c = 4\n",
    "d = 7\n",
    "calculate = False\n",
    "\n",
    "\n",
    "main_number = 42\n",
    "\n",
    "if calculate is True:\n",
    "    print(a + main_number)\n",
    "else:\n",
    "    print(f'the number is {a}')\n",
    "if calculate is True:\n",
    "    print(b + main_number)\n",
    "else:\n",
    "    print(f'the number is {b}')\n",
    "if calculate is True:\n",
    "    print(c + main_number)\n",
    "else:\n",
    "    print(f'the number is {c}')\n",
    "if calculate is True:\n",
    "    print(d + main_number)\n",
    "else:\n",
    "    print(f'the number is {d}')"
   ]
  },
  {
   "cell_type": "code",
   "execution_count": 35,
   "metadata": {},
   "outputs": [
    {
     "name": "stdout",
     "output_type": "stream",
     "text": [
      "43\n",
      "47\n",
      "46\n",
      "49\n"
     ]
    }
   ],
   "source": [
    "a = 1\n",
    "b = 5\n",
    "c = 4\n",
    "d = 7\n",
    "calculate = True\n",
    "\n",
    "main_number = 42\n",
    "\n",
    "def calc(numb):\n",
    "    if calculate is True:\n",
    "        print(numb + main_number)\n",
    "    else:\n",
    "        print(f'the number is {numb}')\n",
    "\n",
    "calc(a)\n",
    "calc(b)\n",
    "calc(c)\n",
    "calc(d)"
   ]
  },
  {
   "cell_type": "code",
   "execution_count": 38,
   "metadata": {},
   "outputs": [
    {
     "name": "stdout",
     "output_type": "stream",
     "text": [
      "hello\n",
      "43\n",
      "hello\n",
      "47\n"
     ]
    }
   ],
   "source": [
    "def print_hello():\n",
    "    print('hello')\n",
    "\n",
    "print_hello()\n",
    "calc(a)\n",
    "print_hello()\n",
    "calc(b)"
   ]
  },
  {
   "cell_type": "code",
   "execution_count": 42,
   "metadata": {},
   "outputs": [
    {
     "name": "stdout",
     "output_type": "stream",
     "text": [
      "85\n"
     ]
    }
   ],
   "source": [
    "a = 1\n",
    "b = 5\n",
    "c = 4\n",
    "d = 7\n",
    "calculate = True\n",
    "\n",
    "main_number = 42\n",
    "\n",
    "def calc(numb):\n",
    "    if calculate is True:\n",
    "        return numb + main_number\n",
    "    else:\n",
    "        return f'the number is {numb}'\n",
    "    print('asdklfjsldkjfsdkfj')\n",
    "    return result\n",
    "\n",
    "result_a = calc(a)\n",
    "print(calc(result_a))\n",
    "calc(b)\n",
    "calc(c)\n",
    "calc(d)\n",
    "a = 1"
   ]
  },
  {
   "cell_type": "code",
   "execution_count": 46,
   "metadata": {},
   "outputs": [
    {
     "name": "stdout",
     "output_type": "stream",
     "text": [
      "6\n"
     ]
    }
   ],
   "source": [
    "def calc_mult(x, y):\n",
    "    print(x * y)\n",
    "\n",
    "calc_mult(2, 3)"
   ]
  },
  {
   "cell_type": "code",
   "execution_count": 49,
   "metadata": {},
   "outputs": [
    {
     "ename": "ZeroDivisionError",
     "evalue": "division by zero",
     "output_type": "error",
     "traceback": [
      "\u001b[0;31m---------------------------------------------------------------------------\u001b[0m",
      "\u001b[0;31mZeroDivisionError\u001b[0m                         Traceback (most recent call last)",
      "\u001b[0;32m/tmp/ipykernel_2812096/3664259313.py\u001b[0m in \u001b[0;36m<module>\u001b[0;34m\u001b[0m\n\u001b[1;32m      2\u001b[0m     \u001b[0mprint\u001b[0m\u001b[0;34m(\u001b[0m\u001b[0mx\u001b[0m \u001b[0;34m/\u001b[0m \u001b[0my\u001b[0m\u001b[0;34m)\u001b[0m\u001b[0;34m\u001b[0m\u001b[0;34m\u001b[0m\u001b[0m\n\u001b[1;32m      3\u001b[0m \u001b[0;34m\u001b[0m\u001b[0m\n\u001b[0;32m----> 4\u001b[0;31m \u001b[0mcalc_div\u001b[0m\u001b[0;34m(\u001b[0m\u001b[0my\u001b[0m\u001b[0;34m=\u001b[0m\u001b[0;36m0\u001b[0m\u001b[0;34m,\u001b[0m \u001b[0mx\u001b[0m\u001b[0;34m=\u001b[0m\u001b[0;36m5\u001b[0m\u001b[0;34m)\u001b[0m\u001b[0;34m\u001b[0m\u001b[0;34m\u001b[0m\u001b[0m\n\u001b[0m",
      "\u001b[0;32m/tmp/ipykernel_2812096/3664259313.py\u001b[0m in \u001b[0;36mcalc_div\u001b[0;34m(x, y)\u001b[0m\n\u001b[1;32m      1\u001b[0m \u001b[0;32mdef\u001b[0m \u001b[0mcalc_div\u001b[0m\u001b[0;34m(\u001b[0m\u001b[0mx\u001b[0m\u001b[0;34m,\u001b[0m \u001b[0my\u001b[0m\u001b[0;34m)\u001b[0m\u001b[0;34m:\u001b[0m\u001b[0;34m\u001b[0m\u001b[0;34m\u001b[0m\u001b[0m\n\u001b[0;32m----> 2\u001b[0;31m     \u001b[0mprint\u001b[0m\u001b[0;34m(\u001b[0m\u001b[0mx\u001b[0m \u001b[0;34m/\u001b[0m \u001b[0my\u001b[0m\u001b[0;34m)\u001b[0m\u001b[0;34m\u001b[0m\u001b[0;34m\u001b[0m\u001b[0m\n\u001b[0m\u001b[1;32m      3\u001b[0m \u001b[0;34m\u001b[0m\u001b[0m\n\u001b[1;32m      4\u001b[0m \u001b[0mcalc_div\u001b[0m\u001b[0;34m(\u001b[0m\u001b[0my\u001b[0m\u001b[0;34m=\u001b[0m\u001b[0;36m0\u001b[0m\u001b[0;34m,\u001b[0m \u001b[0mx\u001b[0m\u001b[0;34m=\u001b[0m\u001b[0;36m5\u001b[0m\u001b[0;34m)\u001b[0m\u001b[0;34m\u001b[0m\u001b[0;34m\u001b[0m\u001b[0m\n",
      "\u001b[0;31mZeroDivisionError\u001b[0m: division by zero"
     ]
    }
   ],
   "source": [
    "def calc_div(x, y):\n",
    "    print(x / y)\n",
    "\n",
    "calc_div(y=0, x=5)"
   ]
  },
  {
   "cell_type": "code",
   "execution_count": 51,
   "metadata": {},
   "outputs": [
    {
     "name": "stdout",
     "output_type": "stream",
     "text": [
      "25\n",
      "125\n"
     ]
    }
   ],
   "source": [
    "def power(number, degree=2):\n",
    "    return number ** degree\n",
    "\n",
    "\n",
    "print(power(5))\n",
    "print(power(5, 3))"
   ]
  },
  {
   "cell_type": "code",
   "execution_count": 53,
   "metadata": {},
   "outputs": [
    {
     "name": "stdout",
     "output_type": "stream",
     "text": [
      "1 5 9 one 10\n",
      "1 5 9 two 10\n"
     ]
    }
   ],
   "source": [
    "def example(e, f, g, h, ff='one'):\n",
    "    print(e, f, g, ff, h)\n",
    "\n",
    "example(1, 5, 9, 10)\n",
    "example(1, 5, 9, 10, 'two')\n",
    "example(2, 4, 5, 6, 'two')"
   ]
  },
  {
   "cell_type": "code",
   "execution_count": 2,
   "metadata": {},
   "outputs": [
    {
     "name": "stdout",
     "output_type": "stream",
     "text": [
      "2 slskdjfowiuelksjdlfkjsldkfjslkdjflskjdf asdkjfhalskdjfhalskdjfhaskdjf 6 1 8 3 89\n"
     ]
    }
   ],
   "source": [
    "def example(e, f, g, h, ff, ee, gg, hh):\n",
    "    print(e, f, g, ff, h, ee, gg, hh)\n",
    "\n",
    "example(\n",
    "    2, \n",
    "    'slskdjfowiuelksjdlfkjsldkfjslkdjflskjdf', \n",
    "    'asdkjfhalskdjfhalskdjfhaskdjf' , \n",
    "    1, \n",
    "    6, \n",
    "    8, \n",
    "    gg=3, \n",
    "    hh=89\n",
    "    )"
   ]
  },
  {
   "cell_type": "code",
   "execution_count": 57,
   "metadata": {},
   "outputs": [
    {
     "name": "stdout",
     "output_type": "stream",
     "text": [
      "lskdjfjfjf\n",
      "sdkfjhsd 3 True\n"
     ]
    }
   ],
   "source": [
    "print('lskdjfjfjf')\n",
    "print('sdkfjhsd', 3, True)"
   ]
  },
  {
   "cell_type": "code",
   "execution_count": 3,
   "metadata": {},
   "outputs": [
    {
     "name": "stdout",
     "output_type": "stream",
     "text": [
      "lskdjfjfjf\n"
     ]
    },
    {
     "ename": "TypeError",
     "evalue": "my_print() takes 1 positional argument but 3 were given",
     "output_type": "error",
     "traceback": [
      "\u001b[0;31m---------------------------------------------------------------------------\u001b[0m",
      "\u001b[0;31mTypeError\u001b[0m                                 Traceback (most recent call last)",
      "\u001b[0;32m/tmp/ipykernel_3647569/3643802458.py\u001b[0m in \u001b[0;36m<module>\u001b[0;34m\u001b[0m\n\u001b[1;32m      3\u001b[0m \u001b[0;34m\u001b[0m\u001b[0m\n\u001b[1;32m      4\u001b[0m \u001b[0mmy_print\u001b[0m\u001b[0;34m(\u001b[0m\u001b[0;34m'lskdjfjfjf'\u001b[0m\u001b[0;34m)\u001b[0m\u001b[0;34m\u001b[0m\u001b[0;34m\u001b[0m\u001b[0m\n\u001b[0;32m----> 5\u001b[0;31m \u001b[0mmy_print\u001b[0m\u001b[0;34m(\u001b[0m\u001b[0;34m'sdkfjhsd'\u001b[0m\u001b[0;34m,\u001b[0m \u001b[0;36m3\u001b[0m\u001b[0;34m,\u001b[0m \u001b[0;32mTrue\u001b[0m\u001b[0;34m)\u001b[0m\u001b[0;34m\u001b[0m\u001b[0;34m\u001b[0m\u001b[0m\n\u001b[0m",
      "\u001b[0;31mTypeError\u001b[0m: my_print() takes 1 positional argument but 3 were given"
     ]
    }
   ],
   "source": [
    "def my_print(text):\n",
    "    print(text)\n",
    "\n",
    "my_print('lskdjfjfjf')\n",
    "my_print('sdkfjhsd', 3, True)"
   ]
  },
  {
   "cell_type": "code",
   "execution_count": 67,
   "metadata": {},
   "outputs": [
    {
     "name": "stdout",
     "output_type": "stream",
     "text": [
      "24\n"
     ]
    }
   ],
   "source": [
    "def sum_all(*args):\n",
    "    # result = 0\n",
    "    # for x in args:\n",
    "    #     result += x\n",
    "    # return result\n",
    "    return sum(args)\n",
    "\n",
    "\n",
    "print(sum_all(1, 3, 5, 7, 8))"
   ]
  },
  {
   "cell_type": "code",
   "execution_count": 66,
   "metadata": {},
   "outputs": [
    {
     "name": "stdout",
     "output_type": "stream",
     "text": [
      "Product iphone price: 2000\n",
      "Product laptop price: 1500\n"
     ]
    }
   ],
   "source": [
    "def price_list(title, price):\n",
    "    print(f'Product {title} price: {price}')\n",
    "\n",
    "price_list('iphone', 2000)\n",
    "price_list('laptop', 1500)"
   ]
  },
  {
   "cell_type": "code",
   "execution_count": 82,
   "metadata": {},
   "outputs": [
    {
     "name": "stdout",
     "output_type": "stream",
     "text": [
      "Product iphone1 price: 2000\n",
      "Product laptop1 price: 1500\n",
      "Product samsung1 price: 500\n",
      "Product iphone price: 2000\n",
      "Product laptop price: 1500\n",
      "Product samsung price: 500\n"
     ]
    }
   ],
   "source": [
    "def price_list(**kwargs):\n",
    "    # print(kwargs)\n",
    "    for title, price in kwargs.items():\n",
    "        print(f'Product {title} price: {price}')\n",
    "lll = {'iphone1': 2000, 'laptop1':1500, 'samsung1':500}\n",
    "price_list(**lll)\n",
    "price_list(iphone=2000, laptop=1500, samsung=500)\n",
    "\n"
   ]
  },
  {
   "cell_type": "code",
   "execution_count": 4,
   "metadata": {},
   "outputs": [
    {
     "name": "stdout",
     "output_type": "stream",
     "text": [
      "[1, 4, 6, 8]\n",
      "1 4 6 8\n",
      "2 5 7\n"
     ]
    },
    {
     "ename": "TypeError",
     "evalue": "'iphone' is an invalid keyword argument for print()",
     "output_type": "error",
     "traceback": [
      "\u001b[0;31m---------------------------------------------------------------------------\u001b[0m",
      "\u001b[0;31mTypeError\u001b[0m                                 Traceback (most recent call last)",
      "\u001b[0;32m/tmp/ipykernel_3647569/2656897210.py\u001b[0m in \u001b[0;36m<module>\u001b[0;34m\u001b[0m\n\u001b[1;32m      5\u001b[0m \u001b[0mprint\u001b[0m\u001b[0;34m(\u001b[0m\u001b[0;34m*\u001b[0m\u001b[0mmy_list\u001b[0m\u001b[0;34m)\u001b[0m  \u001b[0;31m# print(1, 4, 6, 8)\u001b[0m\u001b[0;34m\u001b[0m\u001b[0;34m\u001b[0m\u001b[0m\n\u001b[1;32m      6\u001b[0m \u001b[0mprint\u001b[0m\u001b[0;34m(\u001b[0m\u001b[0;34m*\u001b[0m\u001b[0mmy_tuple\u001b[0m\u001b[0;34m)\u001b[0m  \u001b[0;31m# print(2, 5, 7)\u001b[0m\u001b[0;34m\u001b[0m\u001b[0;34m\u001b[0m\u001b[0m\n\u001b[0;32m----> 7\u001b[0;31m \u001b[0mprint\u001b[0m\u001b[0;34m(\u001b[0m\u001b[0;34m**\u001b[0m\u001b[0mmy_dict\u001b[0m\u001b[0;34m)\u001b[0m  \u001b[0;31m# print(iphone=2000, laptop=1500, samsung=500)\u001b[0m\u001b[0;34m\u001b[0m\u001b[0;34m\u001b[0m\u001b[0m\n\u001b[0m",
      "\u001b[0;31mTypeError\u001b[0m: 'iphone' is an invalid keyword argument for print()"
     ]
    }
   ],
   "source": [
    "my_list = [1, 4, 6, 8]\n",
    "my_tuple = (2, 5, 7)\n",
    "my_dict = {'iphone': 2000, 'laptop':1500, 'samsung':500}\n",
    "print(my_list)  # print([1, 4, 6, 8])\n",
    "print(*my_list)  # print(1, 4, 6, 8)\n",
    "print(*my_tuple)  # print(2, 5, 7)\n",
    "print(**my_dict)  # print(iphone=2000, laptop=1500, samsung=500)\n"
   ]
  },
  {
   "cell_type": "code",
   "execution_count": 86,
   "metadata": {},
   "outputs": [
    {
     "name": "stdout",
     "output_type": "stream",
     "text": [
      "Shop: New shop\n",
      "electronic divices\n",
      "Product iphone price: 2000\n",
      "Product laptop price: 1500\n",
      "Product samsung price: 500\n",
      "Unknown params:\n",
      "234\n",
      "skdjs\n"
     ]
    }
   ],
   "source": [
    "def price_list(list_title, *args, shop_name='My Shop', **kwargs):\n",
    "    print(f'Shop: {shop_name}')\n",
    "    print(list_title)\n",
    "    for title, price in kwargs.items():\n",
    "        print(f'Product {title} price: {price}')\n",
    "    print('Unknown params:')\n",
    "    for arg in args:\n",
    "        print(arg)\n",
    "\n",
    "price_list('electronic divices', 234, 'skdjs', shop_name='New shop',  iphone=2000, laptop=1500, samsung=500)"
   ]
  },
  {
   "cell_type": "code",
   "execution_count": 88,
   "metadata": {},
   "outputs": [
    {
     "name": "stdout",
     "output_type": "stream",
     "text": [
      "hello\n"
     ]
    }
   ],
   "source": [
    "def my_func():\n",
    "    return 'hello'\n",
    "    print('sldkfjlsdfk')\n",
    "\n",
    "print(my_func())"
   ]
  },
  {
   "cell_type": "code",
   "execution_count": 91,
   "metadata": {},
   "outputs": [
    {
     "name": "stdout",
     "output_type": "stream",
     "text": [
      "I lave Pythan\n"
     ]
    }
   ],
   "source": [
    "text = 'I love Python'\n",
    "\n",
    "text_list = text.split()\n",
    "new_text_list = []\n",
    "for x in text_list:\n",
    "    if 'o' in x:\n",
    "        x = x.replace('o', 'a')\n",
    "    new_text_list.append(x)\n",
    "\n",
    "print(' '.join(new_text_list))"
   ]
  },
  {
   "cell_type": "code",
   "execution_count": 96,
   "metadata": {},
   "outputs": [
    {
     "name": "stdout",
     "output_type": "stream",
     "text": [
      "<generator object get_words at 0x7f47d51ce420>\n",
      "I\n",
      "next\n",
      "love\n",
      "next\n",
      "Python\n",
      "next\n"
     ]
    }
   ],
   "source": [
    "text = 'I love Python'\n",
    "\n",
    "def get_words(full_text):\n",
    "    for word in full_text.split():\n",
    "        yield word\n",
    "        print('next')\n",
    "    \n",
    "\n",
    "print(get_words(text))\n",
    "\n",
    "for x in get_words(text):\n",
    "    print(x)\n"
   ]
  },
  {
   "cell_type": "code",
   "execution_count": 103,
   "metadata": {},
   "outputs": [],
   "source": [
    "def get_words(filename):\n",
    "    text_file = open(filename)\n",
    "    for line in text_file.readlines():\n",
    "        for word in line.split():\n",
    "            yield word\n",
    "    text_file.close()\n",
    "\n",
    "\n",
    "for x in get_words('/home/eugene/projects/python_masters/homework/eugene_okulik/lesson_8/text.txt'):\n",
    "    if 'o' in x:\n",
    "        x = x.replace('o', 'a')\n",
    "    new_file = open('/home/eugene/projects/python_masters/homework/eugene_okulik/lesson_8/new_file.txt', 'a')\n",
    "    new_file.write(f' {x}')\n",
    "\n",
    "new_file.close()"
   ]
  },
  {
   "cell_type": "code",
   "execution_count": 104,
   "metadata": {},
   "outputs": [
    {
     "name": "stdout",
     "output_type": "stream",
     "text": [
      "0\n",
      "6\n",
      "12\n",
      "18\n",
      "24\n",
      "30\n",
      "36\n",
      "42\n",
      "48\n",
      "54\n",
      "60\n",
      "66\n",
      "72\n",
      "78\n",
      "84\n",
      "90\n",
      "96\n",
      "102\n",
      "108\n",
      "114\n",
      "120\n",
      "126\n",
      "132\n",
      "138\n",
      "144\n"
     ]
    }
   ],
   "source": [
    "def progression():\n",
    "    n = 3\n",
    "    num = 0\n",
    "    while True:\n",
    "        yield num\n",
    "        num += n\n",
    "\n",
    "count = 1\n",
    "for x in progression():\n",
    "    if x % 2 == 0:\n",
    "        print(x)\n",
    "    if count >= 50:\n",
    "        break\n",
    "    count += 1\n"
   ]
  }
 ],
 "metadata": {
  "kernelspec": {
   "display_name": "Python 3 (ipykernel)",
   "language": "python",
   "name": "python3"
  },
  "language_info": {
   "codemirror_mode": {
    "name": "ipython",
    "version": 3
   },
   "file_extension": ".py",
   "mimetype": "text/x-python",
   "name": "python",
   "nbconvert_exporter": "python",
   "pygments_lexer": "ipython3",
   "version": "3.10.12"
  }
 },
 "nbformat": 4,
 "nbformat_minor": 2
}
