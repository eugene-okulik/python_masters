{
 "cells": [
  {
   "cell_type": "markdown",
   "metadata": {},
   "source": [
    "### Распаковка\n",
    "Используется для того, чтобы распределить элементы коллекции (список, словарь, множество, кортеж) по отдельным переменным.  \n",
    "Используется только в ситуациях, когда вы наверняка знаете количество элементов, содержащихся в коллекции."
   ]
  },
  {
   "cell_type": "code",
   "execution_count": 1,
   "metadata": {},
   "outputs": [
    {
     "name": "stdout",
     "output_type": "stream",
     "text": [
      "The weather in New York is 23\n"
     ]
    }
   ],
   "source": [
    "my_list = ['New York', 23]\n",
    "city = my_list[0]\n",
    "temp = my_list[1]\n",
    "\n",
    "print(f'The weather in {city} is {temp}')\n",
    "print(f'The weather in {my_list[0]} is {my_list[1]}')"
   ]
  },
  {
   "cell_type": "code",
   "execution_count": 3,
   "metadata": {},
   "outputs": [
    {
     "name": "stdout",
     "output_type": "stream",
     "text": [
      "The weather in New York is 23\n"
     ]
    }
   ],
   "source": [
    "my_list = ['New York', 23]\n",
    "city1, temp1 = my_list\n",
    "\n",
    "print(f'The weather in {city1} is {temp1}')"
   ]
  },
  {
   "cell_type": "code",
   "execution_count": 12,
   "metadata": {},
   "outputs": [
    {
     "name": "stdout",
     "output_type": "stream",
     "text": [
      "False 2 sldkf 6\n"
     ]
    }
   ],
   "source": [
    "my_set = {2, 6, 'sldkf', False}\n",
    "number1, num2, some_string, some_bool = my_set\n",
    "\n",
    "print(number1, num2, some_string, some_bool)"
   ]
  },
  {
   "cell_type": "code",
   "execution_count": 5,
   "metadata": {},
   "outputs": [
    {
     "ename": "ValueError",
     "evalue": "not enough values to unpack (expected 2, got 1)",
     "output_type": "error",
     "traceback": [
      "\u001b[0;31m---------------------------------------------------------------------------\u001b[0m",
      "\u001b[0;31mValueError\u001b[0m                                Traceback (most recent call last)",
      "\u001b[0;32m/tmp/ipykernel_2262385/2943603547.py\u001b[0m in \u001b[0;36m<module>\u001b[0;34m\u001b[0m\n\u001b[1;32m      1\u001b[0m \u001b[0mmy_list\u001b[0m \u001b[0;34m=\u001b[0m \u001b[0;34m[\u001b[0m\u001b[0;34m'New York'\u001b[0m\u001b[0;34m]\u001b[0m\u001b[0;34m\u001b[0m\u001b[0;34m\u001b[0m\u001b[0m\n\u001b[0;32m----> 2\u001b[0;31m \u001b[0mcity1\u001b[0m\u001b[0;34m,\u001b[0m \u001b[0mtemp1\u001b[0m \u001b[0;34m=\u001b[0m \u001b[0mmy_list\u001b[0m\u001b[0;34m\u001b[0m\u001b[0;34m\u001b[0m\u001b[0m\n\u001b[0m",
      "\u001b[0;31mValueError\u001b[0m: not enough values to unpack (expected 2, got 1)"
     ]
    }
   ],
   "source": [
    "my_list = ['New York']\n",
    "city1, temp1 = my_list"
   ]
  },
  {
   "cell_type": "markdown",
   "metadata": {},
   "source": [
    "# Строка ←→ список"
   ]
  },
  {
   "cell_type": "code",
   "execution_count": 26,
   "metadata": {},
   "outputs": [
    {
     "name": "stdout",
     "output_type": "stream",
     "text": [
      "['I,', 'love,', 'Python.']\n",
      "['234', '345', '567.827364']\n"
     ]
    }
   ],
   "source": [
    "text = 'I, love,       Python.'\n",
    "text2 = '234,345,567.827364'\n",
    "\n",
    "list_from_text = text.split()\n",
    "data_to_list = text2.split(',')\n",
    "print(list_from_text)\n",
    "print(data_to_list)"
   ]
  },
  {
   "cell_type": "code",
   "execution_count": 21,
   "metadata": {},
   "outputs": [
    {
     "name": "stdout",
     "output_type": "stream",
     "text": [
      "['First', 'line', 'Second', 'line', 'third', 'line']\n",
      "['First line', 'Second line', 'third line']\n",
      "['First line', 'Second line', 'third line']\n"
     ]
    }
   ],
   "source": [
    "text_lines = '''First line\n",
    "Second line\n",
    "third line'''\n",
    "\n",
    "words = text_lines.split()\n",
    "print(words)\n",
    "\n",
    "lines = text_lines.split('\\n')\n",
    "print(lines)\n",
    "\n",
    "lines2 = text_lines.splitlines()\n",
    "print(lines2)"
   ]
  },
  {
   "cell_type": "code",
   "execution_count": 31,
   "metadata": {},
   "outputs": [
    {
     "name": "stdout",
     "output_type": "stream",
     "text": [
      "Student knows these languages: Python, Java, Ruby\n"
     ]
    }
   ],
   "source": [
    "languages = ['Python', 'Java', 'Ruby']\n",
    "# print(languages)\n",
    "\n",
    "# languages = ', '.join(languages)\n",
    "# print(languages)\n",
    "\n",
    "print(f'Student knows these languages: {\", \".join(languages)}')\n"
   ]
  },
  {
   "cell_type": "markdown",
   "metadata": {},
   "source": [
    "## Методы строк\n",
    "Со строкой можно делать многое из того, что можно делать с другими коллекциями, т.к. строка это по сути тоже коллекция - последовательность символов. Больше всего функциональность строки похожа на функциональность кортежей."
   ]
  },
  {
   "cell_type": "code",
   "execution_count": 41,
   "metadata": {},
   "outputs": [
    {
     "name": "stdout",
     "output_type": "stream",
     "text": [
      "l\n",
      "19\n",
      "3\n",
      "3\n",
      "True\n",
      "False\n",
      "my long\n",
      "True\n",
      "False\n",
      "True\n"
     ]
    }
   ],
   "source": [
    "text = 'my long long string'\n",
    "print(text[3])\n",
    "print(len(text))\n",
    "print(text.index('l'))\n",
    "print(text.index('long'))\n",
    "print('long' in text)\n",
    "print('Long' in text)\n",
    "print(text[:7])\n",
    "print(text.startswith('my'))\n",
    "print(text.startswith('My'))\n",
    "print(text.endswith('string'))"
   ]
  },
  {
   "cell_type": "code",
   "execution_count": 42,
   "metadata": {},
   "outputs": [
    {
     "name": "stdout",
     "output_type": "stream",
     "text": [
      "This text with messed up capitalization!\n",
      "This Text With Messed Up Capitalization!\n",
      "THIS TEXT WITH MESSED UP CAPITALIZATION!\n",
      "this text with messed up capitalization!\n"
     ]
    }
   ],
   "source": [
    "txt = \"ThIs tExt wiTh meSsEd uP CaPITalIZatiOn!\"\n",
    "print(txt.capitalize()) # Делает первую букву предложения заглавной\n",
    "print(txt.title())  # Делает каждую первую букву заглавной\n",
    "print(txt.upper())  # Делает все буквы большими\n",
    "print(txt.lower())  # Делает все буквы маленькими"
   ]
  },
  {
   "cell_type": "code",
   "execution_count": 54,
   "metadata": {},
   "outputs": [
    {
     "name": "stdout",
     "output_type": "stream",
     "text": [
      "my loNg Long String kjhsksjd\n",
      "13\n",
      "my loNg Long  kjhsksjd\n"
     ]
    }
   ],
   "source": [
    "# text = 'my long long string'\n",
    "text = 'my loNg Long String kjhsksjd'\n",
    "# text = 'my long string'\n",
    "# text = 'sdfgsd sdfgsdfg sdfgsdfg'\n",
    "\n",
    "string_index = text.lower().find('string')\n",
    "\n",
    "print(text)\n",
    "\n",
    "print(string_index)\n",
    "text_result1 = text[:string_index]\n",
    "text_result2 = text[string_index + 6:]\n",
    "print(f'{text_result1}{text_result2}')\n"
   ]
  },
  {
   "cell_type": "code",
   "execution_count": 55,
   "metadata": {},
   "outputs": [
    {
     "name": "stdout",
     "output_type": "stream",
     "text": [
      "Hello world!\n",
      "Hello universe!\n"
     ]
    }
   ],
   "source": [
    "msg = 'Hello world!'\n",
    "print(msg)\n",
    "msg = msg.replace('world', 'universe')\n",
    "print(msg)\n"
   ]
  },
  {
   "cell_type": "code",
   "execution_count": 57,
   "metadata": {},
   "outputs": [
    {
     "name": "stdout",
     "output_type": "stream",
     "text": [
      "12.3\n"
     ]
    }
   ],
   "source": [
    "data = '12,3'\n",
    "\n",
    "data = data.replace(',', '.')\n",
    "\n",
    "data = float(data)\n",
    "\n",
    "print(data)"
   ]
  },
  {
   "cell_type": "code",
   "execution_count": 61,
   "metadata": {},
   "outputs": [
    {
     "name": "stdout",
     "output_type": "stream",
     "text": [
      "admin\n",
      "word\n"
     ]
    }
   ],
   "source": [
    "txt = ' admin '\n",
    "txt = txt.strip()\n",
    "print(txt)\n",
    "data = '|word|'\n",
    "data = data.strip('|')\n",
    "print(data)\n",
    "data.rstrip()\n",
    "data.lstrip()"
   ]
  },
  {
   "cell_type": "code",
   "execution_count": 67,
   "metadata": {},
   "outputs": [
    {
     "name": "stdout",
     "output_type": "stream",
     "text": [
      "ssdlkfjdf jsdhkjsdh: sdkfjhsdkfjhs; sdlfkjsldkfj;\n",
      "user1\n"
     ]
    }
   ],
   "source": [
    "data = ':ssdlkfjdf jsdhkjsdh: sdkfjhsdkfjhs; sdlfkjsldkfj;'\n",
    "\n",
    "# data = data.strip(':;')\n",
    "# data = data.rstrip(':;')\n",
    "data = data.lstrip(':;')\n",
    "\n",
    "print(data)\n",
    "\n",
    "text = 'user:user1'\n",
    "\n",
    "# text = text.strip('user:')\n",
    "text = text.replace('user:', '')\n",
    "\n",
    "print(text)"
   ]
  }
 ],
 "metadata": {
  "kernelspec": {
   "display_name": "Python 3",
   "language": "python",
   "name": "python3"
  },
  "language_info": {
   "codemirror_mode": {
    "name": "ipython",
    "version": 3
   },
   "file_extension": ".py",
   "mimetype": "text/x-python",
   "name": "python",
   "nbconvert_exporter": "python",
   "pygments_lexer": "ipython3",
   "version": "3.10.12"
  }
 },
 "nbformat": 4,
 "nbformat_minor": 2
}
