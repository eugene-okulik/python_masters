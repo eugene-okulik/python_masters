{
 "cells": [
  {
   "cell_type": "markdown",
   "metadata": {},
   "source": [
    "### Операторы принадлежности\n",
    "![](img/2022-11-16_20-01.png)  \n",
    "Используются в условных выражениях (выражения, в которых содержится условие) для проверки вхождения (или не вхождения) одного объекта в состав другого. Результат работы - True или False  \n",
    "Например, можно проверить есть ли какое-то слово в строке:"
   ]
  },
  {
   "cell_type": "code",
   "execution_count": 3,
   "metadata": {},
   "outputs": [
    {
     "name": "stdout",
     "output_type": "stream",
     "text": [
      "True\n",
      "False\n",
      "True\n"
     ]
    }
   ],
   "source": [
    "text = 'I love Python!'\n",
    "print('love' in text)\n",
    "print('Love' in text)\n",
    "print('world' not in text)"
   ]
  },
  {
   "cell_type": "markdown",
   "metadata": {},
   "source": [
    "### Операторы идентичности\n",
    "![](img/2022-11-16_20-05.png)  \n",
    "Используется для проверки является ли объект идентичным тому, что от него требуется (не просто равным по значению, а именно полностью идентичным).  \n",
    "Происходит проверка являются ли сравниваемые значения представителями одного и того же участка памяти в системе. Для чисел от 0 до 256 участки в памяти зарезервированы, поэтому при помещении в переменную такого числа (от 0 до 256) в переменную помещается не само число, а ссылка на него и память для этого числа не выделяется. Эти числа всегда хранятся в системе по одному и тому же адрему. Но если внести в переменную число > 256, то под это число выделяется память и в переменную сохраняется ссылка на эту новую ячейку памяти. Если создать еще одну переменную с таким же значением, под нее снова будет выделена память и в переменную будет сохранена ссылка на новую ячейку памяти.  \n",
    "Таким образом, операторы идентичности проверяют, что сравниваемые объекты представляют собой одну и ту же ячейку памяти."
   ]
  },
  {
   "cell_type": "code",
   "execution_count": 5,
   "metadata": {},
   "outputs": [
    {
     "name": "stdout",
     "output_type": "stream",
     "text": [
      "True\n"
     ]
    }
   ],
   "source": [
    "a = 1\n",
    "b = 1\n",
    "\n",
    "print(a == b)"
   ]
  },
  {
   "cell_type": "code",
   "execution_count": 8,
   "metadata": {},
   "outputs": [
    {
     "name": "stdout",
     "output_type": "stream",
     "text": [
      "True\n",
      "139964181381488\n",
      "139964181381488\n"
     ]
    }
   ],
   "source": [
    "c = 5\n",
    "d = c\n",
    "\n",
    "print(d is c)\n",
    "print(id(c))\n",
    "print(id(d))"
   ]
  },
  {
   "cell_type": "code",
   "execution_count": 11,
   "metadata": {},
   "outputs": [
    {
     "name": "stdout",
     "output_type": "stream",
     "text": [
      "False\n",
      "True\n",
      "139964133790800\n",
      "139964133791792\n",
      "\n",
      "True\n",
      "True\n",
      "139964181384528\n",
      "139964181384528\n"
     ]
    }
   ],
   "source": [
    "e = 1000\n",
    "f = 1000\n",
    "print(e is f)\n",
    "print(e == f)\n",
    "print(id(e))\n",
    "print(id(f))\n",
    "print()\n",
    "g = 100\n",
    "h = 100\n",
    "print(g is h)\n",
    "print(g == h)\n",
    "print(id(g))\n",
    "print(id(h))"
   ]
  },
  {
   "cell_type": "code",
   "execution_count": 15,
   "metadata": {},
   "outputs": [
    {
     "name": "stdout",
     "output_type": "stream",
     "text": [
      "True\n"
     ]
    }
   ],
   "source": [
    "print(g == 100 or h == 1000000000)"
   ]
  },
  {
   "cell_type": "code",
   "execution_count": 77,
   "metadata": {},
   "outputs": [
    {
     "name": "stdout",
     "output_type": "stream",
     "text": [
      "False\n",
      "True\n",
      "False\n",
      "False\n",
      "True\n",
      "True\n",
      "True\n"
     ]
    }
   ],
   "source": [
    "print(g == 100 | h == 1000000000)\n",
    "print(g == 100 & h == 100)\n",
    "x = 0\n",
    "y = 0\n",
    "print(x == 0 | y == 10)\n",
    "print(False | False)\n",
    "print(True | False)\n",
    "print(False | True)\n",
    "print(True | True)"
   ]
  },
  {
   "cell_type": "markdown",
   "metadata": {},
   "source": [
    "## Способы ввода данных\n",
    "Клавиатура  \n",
    "Чтение из файла  \n",
    "База данных  \n",
    "API  \n",
    "\n",
    "Но сначала разберемся с одним из них"
   ]
  },
  {
   "cell_type": "code",
   "execution_count": 29,
   "metadata": {},
   "outputs": [
    {
     "name": "stdout",
     "output_type": "stream",
     "text": [
      "Hello Bob!\n"
     ]
    }
   ],
   "source": [
    "username = input('What is your name?')\n",
    "print('Hello ' + username + '!')"
   ]
  },
  {
   "cell_type": "code",
   "execution_count": 32,
   "metadata": {},
   "outputs": [
    {
     "name": "stdout",
     "output_type": "stream",
     "text": [
      "<class 'str'> <class 'str'>\n",
      "Result of operation is: 12\n"
     ]
    }
   ],
   "source": [
    "first_num = input('Enter first number')\n",
    "second_num = input('Enter second number')\n",
    "print(type(first_num), type(second_num))\n",
    "result = first_num + second_num\n",
    "print('Result of operation is: ' + result)"
   ]
  },
  {
   "cell_type": "code",
   "execution_count": 42,
   "metadata": {},
   "outputs": [
    {
     "name": "stdout",
     "output_type": "stream",
     "text": [
      "<class 'int'> <class 'int'>\n",
      "3\n",
      "Result of operation is: 3\n",
      "Result of operation is: 3\n"
     ]
    }
   ],
   "source": [
    "first_num = int(input('Enter first number'))\n",
    "second_num = int(input('Enter second number'))\n",
    "print(type(first_num), type(second_num))\n",
    "result = first_num + second_num\n",
    "print(result)\n",
    "print('Result of operation is: ' + str(result))\n",
    "print(f'Result of operation is: {result}')"
   ]
  },
  {
   "cell_type": "markdown",
   "metadata": {},
   "source": [
    "## Преобразование типов данных"
   ]
  },
  {
   "cell_type": "code",
   "execution_count": 50,
   "metadata": {},
   "outputs": [
    {
     "name": "stdout",
     "output_type": "stream",
     "text": [
      "<class 'str'>\n",
      "<class 'int'>\n",
      "<class 'str'>\n",
      "<class 'float'>\n",
      "22.5\n",
      "True\n",
      "<class 'bool'>\n"
     ]
    }
   ],
   "source": [
    "a = '1'\n",
    "print(type(a))\n",
    "a = int(a)\n",
    "print(type(a))\n",
    "# b = 'skdjfsld'\n",
    "# b = int(b)\n",
    "a = str(a)\n",
    "print(type(a))\n",
    "c = '22.5'\n",
    "c = float(c)\n",
    "print(type(c))\n",
    "print(c)\n",
    "d = 'AAAAAAAAAAAAAAAAAAAAAAAAAAAAA'\n",
    "d = bool(d)\n",
    "print(d)\n",
    "print(type(d))"
   ]
  },
  {
   "cell_type": "markdown",
   "metadata": {},
   "source": [
    "# Форматирование строки"
   ]
  },
  {
   "cell_type": "code",
   "execution_count": 67,
   "metadata": {},
   "outputs": [
    {
     "name": "stdout",
     "output_type": "stream",
     "text": [
      "First word is 1, second word is two\n",
      "First word is 1, second word is two\n",
      "First word is 1, second word is two\n",
      "First word is 1, second word is two\n",
      "First word is 1, second word is two\n"
     ]
    }
   ],
   "source": [
    "a = 'one'\n",
    "# a = 1\n",
    "b = 'two'\n",
    "print('First word is ', a, ', second word is ', b, sep='')\n",
    "\n",
    "my_text = 'First word is ' + a + ', second word is ' + b\n",
    "print(my_text)\n",
    "\n",
    "my_text = 'First word is %s, second word is %s'\n",
    "print(my_text % (a, b))\n",
    "\n",
    "# string format\n",
    "my_text = 'First word is {}, second word is {}'\n",
    "print(my_text.format(a, b))\n",
    "\n",
    "my_text = 'First word is {0}, second word is {1}'\n",
    "print(my_text.format(a, b))\n",
    "\n",
    "# f string\n",
    "my_text = f'First word is {a}, second word is {b}'\n",
    "print(my_text)"
   ]
  },
  {
   "cell_type": "code",
   "execution_count": 68,
   "metadata": {},
   "outputs": [
    {
     "name": "stdout",
     "output_type": "stream",
     "text": [
      "Hello Bob, how are you?\n"
     ]
    }
   ],
   "source": [
    "template = 'Hello {0}, how are you?'\n",
    "username = input('What is your name?')\n",
    "print(template.format(username))"
   ]
  }
 ],
 "metadata": {
  "kernelspec": {
   "display_name": "Python 3",
   "language": "python",
   "name": "python3"
  },
  "language_info": {
   "codemirror_mode": {
    "name": "ipython",
    "version": 3
   },
   "file_extension": ".py",
   "mimetype": "text/x-python",
   "name": "python",
   "nbconvert_exporter": "python",
   "pygments_lexer": "ipython3",
   "version": "3.10.12"
  }
 },
 "nbformat": 4,
 "nbformat_minor": 2
}
