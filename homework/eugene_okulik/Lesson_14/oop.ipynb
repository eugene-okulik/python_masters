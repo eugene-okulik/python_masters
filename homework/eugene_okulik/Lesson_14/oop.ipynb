{
 "cells": [
  {
   "cell_type": "markdown",
   "metadata": {},
   "source": [
    "# ООП(OOP) - Объектно ориентированное программирование"
   ]
  },
  {
   "cell_type": "markdown",
   "metadata": {},
   "source": [
    "Приципы ООП:\n",
    "\n",
    "- Инкапсуляция (Encapsulation)\n",
    "- Наследование (inheritance)\n",
    "- Полиморфизм (Polymorphism)"
   ]
  },
  {
   "cell_type": "markdown",
   "metadata": {},
   "source": [
    "## Инкапсуляция\n",
    "Все данные объекта должны хранится в объекте. Никто не может изменить данные объекта без его ведома."
   ]
  },
  {
   "cell_type": "markdown",
   "metadata": {},
   "source": [
    "## Наследование\n",
    "Объекты и их типы организуют иерархию типов. Дочерние типы наследуют свою функциональность от родительского класса, расширяя и дополняя её."
   ]
  },
  {
   "cell_type": "markdown",
   "metadata": {},
   "source": [
    "## Полиморфизм\n",
    "Способность классов менять своё поведение в зависимости от типов операций и операндов. Полиморфизм в программировании реализуется через перегрузку метода, либо через его переопределение."
   ]
  },
  {
   "cell_type": "code",
   "execution_count": null,
   "metadata": {},
   "outputs": [],
   "source": [
    "# data1.txt\n",
    "{\"Country\": \"Turkey\", \"avg_temp\": 30}\n",
    "# data2.txt\n",
    "{\"Country\": \"Greece\", \"avg_temp\": 28}"
   ]
  },
  {
   "cell_type": "code",
   "execution_count": 7,
   "metadata": {},
   "outputs": [
    {
     "name": "stdout",
     "output_type": "stream",
     "text": [
      "Turkey\n",
      "Greece\n"
     ]
    }
   ],
   "source": [
    "import json\n",
    "\n",
    "def read_file(filename):\n",
    "    file_data = open(filename)\n",
    "    # data = file_data.read()\n",
    "    data = json.load(file_data)\n",
    "    return data\n",
    "\n",
    "data1 = read_file('data1.txt')\n",
    "data2 = read_file('data2.txt')\n",
    "\n",
    "print(data1['Country'])\n",
    "print(data2['Country'])\n"
   ]
  },
  {
   "cell_type": "code",
   "execution_count": 14,
   "metadata": {},
   "outputs": [
    {
     "name": "stdout",
     "output_type": "stream",
     "text": [
      "{'Country': 'Turkey', 'avg_temp': 30}\n",
      "Turkey\n",
      "Greece\n"
     ]
    }
   ],
   "source": [
    "class CountryData:\n",
    "    def __init__(self, filename):\n",
    "        self.filename = filename\n",
    "        self.data = self.read_file()\n",
    "        self.country = self.data['Country']\n",
    "        self.avg_temp = self.data['avg_temp']\n",
    "        self.comfort = self.is_comfort()\n",
    "\n",
    "    def read_file(self):\n",
    "        file_data = open(self.filename)\n",
    "        data = json.load(file_data)\n",
    "        return data\n",
    "    \n",
    "    def is_comfort(self):\n",
    "        return self.avg_temp >= 20\n",
    "    \n",
    "\n",
    "data1 = CountryData('data1.txt')\n",
    "print(data1.data)\n",
    "print(data1.country)\n",
    "data2 = CountryData('data2.txt')\n",
    "print(data2.country)"
   ]
  },
  {
   "cell_type": "code",
   "execution_count": null,
   "metadata": {},
   "outputs": [],
   "source": [
    "# data3.txt\n",
    "{\"Country\": \"Poland\", \"avg_temp\": 15, \"min_temp\": 2}"
   ]
  },
  {
   "cell_type": "code",
   "execution_count": null,
   "metadata": {},
   "outputs": [],
   "source": [
    "data3 = CountryData('data3.txt')\n",
    "print(data3.country)\n",
    "print(data3.avg_temp)"
   ]
  },
  {
   "cell_type": "code",
   "execution_count": 15,
   "metadata": {},
   "outputs": [
    {
     "name": "stdout",
     "output_type": "stream",
     "text": [
      "Poland\n",
      "2\n",
      "False\n"
     ]
    }
   ],
   "source": [
    "class CountryDataWithMinTemp(CountryData):\n",
    "    def __init__(self, filename):\n",
    "        super().__init__(filename)\n",
    "        self.min_temp = self.data['min_temp']\n",
    "\n",
    "    def is_comfort(self):\n",
    "        return self.avg_temp > 20 and self.min_temp > 10\n",
    "\n",
    "\n",
    "data3 = CountryDataWithMinTemp('data3.txt')\n",
    "print(data3.country)\n",
    "print(data3.min_temp)\n",
    "print(data3.comfort)"
   ]
  },
  {
   "cell_type": "code",
   "execution_count": 27,
   "metadata": {},
   "outputs": [
    {
     "name": "stdout",
     "output_type": "stream",
     "text": [
      "{'Country': 'Turkey', 'avg_temp': 30}\n",
      "77\n",
      "Turkey: {'Country': 'Turkey', 'avg_temp': 30}\n"
     ]
    }
   ],
   "source": [
    "class CountryData:\n",
    "    def __init__(self, filename):\n",
    "        self.__filename = filename\n",
    "        self.__data = self.__read_file()\n",
    "        self.__country = self.__data['Country']\n",
    "        self.__avg_temp = self.__data['avg_temp']\n",
    "        self.__comfort = self.__is_comfort()\n",
    "\n",
    "    @property\n",
    "    def data(self):\n",
    "        return self.__data\n",
    "    \n",
    "    @property\n",
    "    def country(self):\n",
    "        return self.__country\n",
    "    \n",
    "    @property\n",
    "    def avg_temp(self):\n",
    "        return self.__avg_temp\n",
    "    \n",
    "    @avg_temp.setter\n",
    "    def avg_temp(self, value):\n",
    "        self.__avg_temp = value\n",
    "    \n",
    "    @property\n",
    "    def comfort(self):\n",
    "        return self.__comfort\n",
    "    \n",
    "    def __read_file(self):\n",
    "        file_data = open(self.__filename)\n",
    "        data = json.load(file_data)\n",
    "        return data\n",
    "    \n",
    "    def __is_comfort(self):\n",
    "        return self.__avg_temp >= 20\n",
    "    \n",
    "    def __str__(self):\n",
    "        return f'{self.__country}: {str(self.__data)}'\n",
    "    \n",
    "    def __repr__(self):\n",
    "        return f'{self.__country} data'\n",
    "    \n",
    "\n",
    "data1 = CountryData('data1.txt')\n",
    "print(data1.data)\n",
    "data1.avg_temp = 77\n",
    "print(data1.avg_temp)\n",
    "\n",
    "print(data1)  # print(str(data1))\n",
    "# print(data1 + data2)\n",
    "# print(data1 < data2)\n"
   ]
  }
 ],
 "metadata": {
  "kernelspec": {
   "display_name": "Python 3",
   "language": "python",
   "name": "python3"
  },
  "language_info": {
   "codemirror_mode": {
    "name": "ipython",
    "version": 3
   },
   "file_extension": ".py",
   "mimetype": "text/x-python",
   "name": "python",
   "nbconvert_exporter": "python",
   "pygments_lexer": "ipython3",
   "version": "3.10.12"
  }
 },
 "nbformat": 4,
 "nbformat_minor": 2
}
